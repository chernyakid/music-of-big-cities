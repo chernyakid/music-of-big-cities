{
 "cells": [
  {
   "cell_type": "markdown",
   "metadata": {
    "deletable": false,
    "editable": false,
    "id": "E0vqbgi9ay0H"
   },
   "source": [
    "# Яндекс Музыка"
   ]
  },
  {
   "cell_type": "markdown",
   "metadata": {
    "deletable": false,
    "editable": false,
    "id": "VUC88oWjTJw2"
   },
   "source": [
    "Сравнение Москвы и Петербурга окружено мифами. Например:\n",
    " * Москва — мегаполис, подчинённый жёсткому ритму рабочей недели;\n",
    " * Петербург — культурная столица, со своими вкусами.\n",
    "\n",
    "На данных Яндекс Музыки вы сравните поведение пользователей двух столиц.\n",
    "\n",
    "**Цель исследования** — проверьте три гипотезы:\n",
    "1. Активность пользователей зависит от дня недели. Причём в Москве и Петербурге это проявляется по-разному.\n",
    "2. В понедельник утром в Москве преобладают одни жанры, а в Петербурге — другие. Так же и вечером пятницы преобладают разные жанры — в зависимости от города.\n",
    "3. Москва и Петербург предпочитают разные жанры музыки. В Москве чаще слушают поп-музыку, в Петербурге — русский рэп.\n",
    "\n",
    "**Ход исследования**\n",
    "\n",
    "Данные о поведении пользователей вы получите из файла `yandex_music_project.csv`. О качестве данных ничего не известно. Поэтому перед проверкой гипотез понадобится обзор данных.\n",
    "\n",
    "Вы проверите данные на ошибки и оцените их влияние на исследование. Затем, на этапе предобработки вы поищете возможность исправить самые критичные ошибки данных.\n",
    "\n",
    "Таким образом, исследование пройдёт в три этапа:\n",
    " 1. Обзор данных.\n",
    " 2. Предобработка данных.\n",
    " 3. Проверка гипотез.\n",
    "\n"
   ]
  },
  {
   "cell_type": "markdown",
   "metadata": {
    "deletable": false,
    "editable": false,
    "id": "Ml1hmfXC_Zcs"
   },
   "source": [
    "## Обзор данных\n",
    "\n",
    "Составьте первое представление о данных Яндекс Музыки.\n",
    "\n",
    "\n"
   ]
  },
  {
   "cell_type": "markdown",
   "metadata": {
    "deletable": false,
    "editable": false,
    "id": "57eAOGIz_Zcs",
    "tags": [
     "start_task"
    ]
   },
   "source": [
    "**Задание 1**"
   ]
  },
  {
   "cell_type": "code",
   "execution_count": 1,
   "metadata": {
    "deletable": false,
    "id": "AXN7PHPN_Zcs"
   },
   "outputs": [],
   "source": [
    "# импорт библиотеки pandas\n",
    "import pandas as pd"
   ]
  },
  {
   "cell_type": "markdown",
   "metadata": {
    "deletable": false,
    "editable": false,
    "id": "SG23P8tt_Zcs",
    "tags": [
     "start_task"
    ]
   },
   "source": [
    "**Задание 2**"
   ]
  },
  {
   "cell_type": "code",
   "execution_count": 2,
   "metadata": {
    "deletable": false,
    "id": "fFVu7vqh_Zct"
   },
   "outputs": [],
   "source": [
    "# чтение файла с данными и сохранение в df\n",
    "df = pd.read_csv('yandex_music_project.csv')"
   ]
  },
  {
   "cell_type": "markdown",
   "metadata": {
    "deletable": false,
    "editable": false,
    "id": "rDoOMd3uTqnZ",
    "tags": [
     "start_task"
    ]
   },
   "source": [
    "**Задание 3**"
   ]
  },
  {
   "cell_type": "code",
   "execution_count": 3,
   "metadata": {
    "deletable": false,
    "id": "oWTVX3gW_Zct"
   },
   "outputs": [
    {
     "data": {
      "text/html": [
       "<div>\n",
       "<style scoped>\n",
       "    .dataframe tbody tr th:only-of-type {\n",
       "        vertical-align: middle;\n",
       "    }\n",
       "\n",
       "    .dataframe tbody tr th {\n",
       "        vertical-align: top;\n",
       "    }\n",
       "\n",
       "    .dataframe thead th {\n",
       "        text-align: right;\n",
       "    }\n",
       "</style>\n",
       "<table border=\"1\" class=\"dataframe\">\n",
       "  <thead>\n",
       "    <tr style=\"text-align: right;\">\n",
       "      <th></th>\n",
       "      <th>userID</th>\n",
       "      <th>Track</th>\n",
       "      <th>artist</th>\n",
       "      <th>genre</th>\n",
       "      <th>City</th>\n",
       "      <th>time</th>\n",
       "      <th>Day</th>\n",
       "    </tr>\n",
       "  </thead>\n",
       "  <tbody>\n",
       "    <tr>\n",
       "      <th>0</th>\n",
       "      <td>FFB692EC</td>\n",
       "      <td>Kamigata To Boots</td>\n",
       "      <td>The Mass Missile</td>\n",
       "      <td>rock</td>\n",
       "      <td>Saint-Petersburg</td>\n",
       "      <td>20:28:33</td>\n",
       "      <td>Wednesday</td>\n",
       "    </tr>\n",
       "    <tr>\n",
       "      <th>1</th>\n",
       "      <td>55204538</td>\n",
       "      <td>Delayed Because of Accident</td>\n",
       "      <td>Andreas Rönnberg</td>\n",
       "      <td>rock</td>\n",
       "      <td>Moscow</td>\n",
       "      <td>14:07:09</td>\n",
       "      <td>Friday</td>\n",
       "    </tr>\n",
       "    <tr>\n",
       "      <th>2</th>\n",
       "      <td>20EC38</td>\n",
       "      <td>Funiculì funiculà</td>\n",
       "      <td>Mario Lanza</td>\n",
       "      <td>pop</td>\n",
       "      <td>Saint-Petersburg</td>\n",
       "      <td>20:58:07</td>\n",
       "      <td>Wednesday</td>\n",
       "    </tr>\n",
       "    <tr>\n",
       "      <th>3</th>\n",
       "      <td>A3DD03C9</td>\n",
       "      <td>Dragons in the Sunset</td>\n",
       "      <td>Fire + Ice</td>\n",
       "      <td>folk</td>\n",
       "      <td>Saint-Petersburg</td>\n",
       "      <td>08:37:09</td>\n",
       "      <td>Monday</td>\n",
       "    </tr>\n",
       "    <tr>\n",
       "      <th>4</th>\n",
       "      <td>E2DC1FAE</td>\n",
       "      <td>Soul People</td>\n",
       "      <td>Space Echo</td>\n",
       "      <td>dance</td>\n",
       "      <td>Moscow</td>\n",
       "      <td>08:34:34</td>\n",
       "      <td>Monday</td>\n",
       "    </tr>\n",
       "    <tr>\n",
       "      <th>5</th>\n",
       "      <td>842029A1</td>\n",
       "      <td>Преданная</td>\n",
       "      <td>IMPERVTOR</td>\n",
       "      <td>rusrap</td>\n",
       "      <td>Saint-Petersburg</td>\n",
       "      <td>13:09:41</td>\n",
       "      <td>Friday</td>\n",
       "    </tr>\n",
       "    <tr>\n",
       "      <th>6</th>\n",
       "      <td>4CB90AA5</td>\n",
       "      <td>True</td>\n",
       "      <td>Roman Messer</td>\n",
       "      <td>dance</td>\n",
       "      <td>Moscow</td>\n",
       "      <td>13:00:07</td>\n",
       "      <td>Wednesday</td>\n",
       "    </tr>\n",
       "    <tr>\n",
       "      <th>7</th>\n",
       "      <td>F03E1C1F</td>\n",
       "      <td>Feeling This Way</td>\n",
       "      <td>Polina Griffith</td>\n",
       "      <td>dance</td>\n",
       "      <td>Moscow</td>\n",
       "      <td>20:47:49</td>\n",
       "      <td>Wednesday</td>\n",
       "    </tr>\n",
       "    <tr>\n",
       "      <th>8</th>\n",
       "      <td>8FA1D3BE</td>\n",
       "      <td>И вновь продолжается бой</td>\n",
       "      <td>NaN</td>\n",
       "      <td>ruspop</td>\n",
       "      <td>Moscow</td>\n",
       "      <td>09:17:40</td>\n",
       "      <td>Friday</td>\n",
       "    </tr>\n",
       "    <tr>\n",
       "      <th>9</th>\n",
       "      <td>E772D5C0</td>\n",
       "      <td>Pessimist</td>\n",
       "      <td>NaN</td>\n",
       "      <td>dance</td>\n",
       "      <td>Saint-Petersburg</td>\n",
       "      <td>21:20:49</td>\n",
       "      <td>Wednesday</td>\n",
       "    </tr>\n",
       "  </tbody>\n",
       "</table>\n",
       "</div>"
      ],
      "text/plain": [
       "     userID                        Track            artist   genre  \\\n",
       "0  FFB692EC            Kamigata To Boots  The Mass Missile    rock   \n",
       "1  55204538  Delayed Because of Accident  Andreas Rönnberg    rock   \n",
       "2    20EC38            Funiculì funiculà       Mario Lanza     pop   \n",
       "3  A3DD03C9        Dragons in the Sunset        Fire + Ice    folk   \n",
       "4  E2DC1FAE                  Soul People        Space Echo   dance   \n",
       "5  842029A1                    Преданная         IMPERVTOR  rusrap   \n",
       "6  4CB90AA5                         True      Roman Messer   dance   \n",
       "7  F03E1C1F             Feeling This Way   Polina Griffith   dance   \n",
       "8  8FA1D3BE     И вновь продолжается бой               NaN  ruspop   \n",
       "9  E772D5C0                    Pessimist               NaN   dance   \n",
       "\n",
       "             City        time        Day  \n",
       "0  Saint-Petersburg  20:28:33  Wednesday  \n",
       "1            Moscow  14:07:09     Friday  \n",
       "2  Saint-Petersburg  20:58:07  Wednesday  \n",
       "3  Saint-Petersburg  08:37:09     Monday  \n",
       "4            Moscow  08:34:34     Monday  \n",
       "5  Saint-Petersburg  13:09:41     Friday  \n",
       "6            Moscow  13:00:07  Wednesday  \n",
       "7            Moscow  20:47:49  Wednesday  \n",
       "8            Moscow  09:17:40     Friday  \n",
       "9  Saint-Petersburg  21:20:49  Wednesday  "
      ]
     },
     "execution_count": 3,
     "metadata": {},
     "output_type": "execute_result"
    }
   ],
   "source": [
    "# получение первых 10 строк таблицы df\n",
    "df.head(10)"
   ]
  },
  {
   "cell_type": "markdown",
   "metadata": {
    "deletable": false,
    "editable": false,
    "id": "EO73Kwic_Zct",
    "tags": [
     "start_task"
    ]
   },
   "source": [
    "**Задание 4**"
   ]
  },
  {
   "cell_type": "code",
   "execution_count": 4,
   "metadata": {
    "deletable": false,
    "id": "DSf2kIb-_Zct"
   },
   "outputs": [
    {
     "name": "stdout",
     "output_type": "stream",
     "text": [
      "<class 'pandas.core.frame.DataFrame'>\n",
      "RangeIndex: 65079 entries, 0 to 65078\n",
      "Data columns (total 7 columns):\n",
      " #   Column    Non-Null Count  Dtype \n",
      "---  ------    --------------  ----- \n",
      " 0     userID  65079 non-null  object\n",
      " 1   Track     63848 non-null  object\n",
      " 2   artist    57876 non-null  object\n",
      " 3   genre     63881 non-null  object\n",
      " 4     City    65079 non-null  object\n",
      " 5   time      65079 non-null  object\n",
      " 6   Day       65079 non-null  object\n",
      "dtypes: object(7)\n",
      "memory usage: 3.5+ MB\n"
     ]
    },
    {
     "data": {
      "text/plain": [
       "Index(['  userID', 'Track', 'artist', 'genre', '  City  ', 'time', 'Day'], dtype='object')"
      ]
     },
     "execution_count": 4,
     "metadata": {},
     "output_type": "execute_result"
    }
   ],
   "source": [
    "# получение общей информации о данных в таблице df\n",
    "df.info()\n",
    "df.columns"
   ]
  },
  {
   "cell_type": "markdown",
   "metadata": {
    "deletable": false,
    "editable": false,
    "id": "TaQ2Iwbr_Zct"
   },
   "source": [
    "Количество значений в столбцах различается. Значит, в данных есть пропущенные значения."
   ]
  },
  {
   "cell_type": "markdown",
   "metadata": {
    "deletable": false,
    "editable": false,
    "id": "4P0UCWzswgEm",
    "tags": [
     "start_task"
    ]
   },
   "source": [
    "**Задание 5**"
   ]
  },
  {
   "cell_type": "code",
   "execution_count": 5,
   "metadata": {
    "id": "c137-ZstwgEm"
   },
   "outputs": [],
   "source": [
    "# Обнаружены проблемы:\n",
    "# 1. Проблемы с хорошим стилем в названиях колонок: '  userID', 'Track', '  City  ', 'Day'\n",
    "# 2. Пропуски в данных, колонки 'Track', 'artist', 'genre'\n"
   ]
  },
  {
   "cell_type": "markdown",
   "metadata": {
    "deletable": false,
    "editable": false,
    "id": "MCB6-dXG_Zct"
   },
   "source": [
    "**Выводы**\n",
    "\n",
    "В каждой строке таблицы — данные о прослушанном треке. Часть колонок описывает саму композицию: название, исполнителя и жанр. Остальные данные рассказывают о пользователе: из какого он города, когда он слушал музыку.\n",
    "\n",
    "Предварительно можно утверждать, что данных достаточно для проверки гипотез. Но встречаются пропуски в данных, а в названиях колонок — расхождения с хорошим стилем.\n",
    "\n",
    "Чтобы двигаться дальше, нужно устранить проблемы в данных."
   ]
  },
  {
   "cell_type": "markdown",
   "metadata": {
    "deletable": false,
    "editable": false,
    "id": "SjYF6Ub9_Zct"
   },
   "source": [
    "## Предобработка данных"
   ]
  },
  {
   "cell_type": "markdown",
   "metadata": {
    "deletable": false,
    "editable": false,
    "id": "dIaKXr29_Zct",
    "tags": [
     "start_task"
    ]
   },
   "source": [
    "### Переименование столбцов\n",
    "\n",
    "**Задание 6**"
   ]
  },
  {
   "cell_type": "code",
   "execution_count": 6,
   "metadata": {
    "deletable": false,
    "id": "oKOTdF_Q_Zct"
   },
   "outputs": [
    {
     "data": {
      "text/plain": [
       "Index(['  userID', 'Track', 'artist', 'genre', '  City  ', 'time', 'Day'], dtype='object')"
      ]
     },
     "execution_count": 6,
     "metadata": {},
     "output_type": "execute_result"
    }
   ],
   "source": [
    "# перечень названий столбцов таблицы df\n",
    "df.columns"
   ]
  },
  {
   "cell_type": "markdown",
   "metadata": {
    "deletable": false,
    "editable": false,
    "id": "zj5534cv_Zct",
    "tags": [
     "start_task"
    ]
   },
   "source": [
    "**Задание 7**"
   ]
  },
  {
   "cell_type": "code",
   "execution_count": 7,
   "metadata": {
    "deletable": false,
    "id": "ISlFqs5y_Zct"
   },
   "outputs": [],
   "source": [
    "# переименование столбцов\n",
    "df = df.rename(columns={'  userID':'user_id', 'Track':'track', '  City  ':'city', 'Day':'day'})"
   ]
  },
  {
   "cell_type": "markdown",
   "metadata": {
    "deletable": false,
    "editable": false,
    "id": "1dqbh00J_Zct",
    "tags": [
     "start_task"
    ]
   },
   "source": [
    "**Задание 8**"
   ]
  },
  {
   "cell_type": "code",
   "execution_count": 8,
   "metadata": {
    "deletable": false,
    "id": "d4NOAmTW_Zct"
   },
   "outputs": [
    {
     "data": {
      "text/plain": [
       "Index(['user_id', 'track', 'artist', 'genre', 'city', 'time', 'day'], dtype='object')"
      ]
     },
     "execution_count": 8,
     "metadata": {},
     "output_type": "execute_result"
    }
   ],
   "source": [
    "# проверка результатов - перечень названий столбцов\n",
    "df.columns"
   ]
  },
  {
   "cell_type": "markdown",
   "metadata": {
    "deletable": false,
    "editable": false,
    "id": "5ISfbcfY_Zct",
    "tags": [
     "start_task"
    ]
   },
   "source": [
    "### Обработка пропущенных значений\n",
    "\n",
    "**Задание 9**"
   ]
  },
  {
   "cell_type": "code",
   "execution_count": 9,
   "metadata": {
    "deletable": false,
    "id": "RskX29qr_Zct"
   },
   "outputs": [
    {
     "data": {
      "text/plain": [
       "user_id       0\n",
       "track      1231\n",
       "artist     7203\n",
       "genre      1198\n",
       "city          0\n",
       "time          0\n",
       "day           0\n",
       "dtype: int64"
      ]
     },
     "execution_count": 9,
     "metadata": {},
     "output_type": "execute_result"
    }
   ],
   "source": [
    "# подсчёт пропусков\n",
    "df.isna().sum()"
   ]
  },
  {
   "cell_type": "markdown",
   "metadata": {
    "deletable": false,
    "editable": false,
    "id": "fSv2laPA_Zct",
    "tags": [
     "start_task"
    ]
   },
   "source": [
    "**Задание 10**"
   ]
  },
  {
   "cell_type": "code",
   "execution_count": 10,
   "metadata": {
    "deletable": false,
    "id": "KplB5qWs_Zct"
   },
   "outputs": [],
   "source": [
    "# замена пропущенных значений на 'unknown'\n",
    "df = df.fillna('unknown')\n",
    "    \n",
    "\n"
   ]
  },
  {
   "cell_type": "markdown",
   "metadata": {
    "deletable": false,
    "editable": false,
    "id": "Ilsm-MZo_Zct",
    "tags": [
     "start_task"
    ]
   },
   "source": [
    "**Задание 11**"
   ]
  },
  {
   "cell_type": "code",
   "execution_count": 11,
   "metadata": {
    "deletable": false,
    "id": "Tq4nYRX4_Zct"
   },
   "outputs": [
    {
     "data": {
      "text/plain": [
       "user_id    0\n",
       "track      0\n",
       "artist     0\n",
       "genre      0\n",
       "city       0\n",
       "time       0\n",
       "day        0\n",
       "dtype: int64"
      ]
     },
     "execution_count": 11,
     "metadata": {},
     "output_type": "execute_result"
    }
   ],
   "source": [
    "# проверка на отсутствие пропуск\n",
    "df.isna().sum()"
   ]
  },
  {
   "cell_type": "markdown",
   "metadata": {
    "deletable": false,
    "editable": false,
    "id": "BWKRtBJ3_Zct",
    "tags": [
     "start_task"
    ]
   },
   "source": [
    "### Обработка дубликатов\n",
    "\n",
    "**Задание 12**"
   ]
  },
  {
   "cell_type": "code",
   "execution_count": 12,
   "metadata": {
    "deletable": false,
    "id": "36eES_S0_Zct"
   },
   "outputs": [
    {
     "data": {
      "text/plain": [
       "3826"
      ]
     },
     "execution_count": 12,
     "metadata": {},
     "output_type": "execute_result"
    }
   ],
   "source": [
    "# подсчёт явных дубликатов\n",
    "df.duplicated().sum()"
   ]
  },
  {
   "cell_type": "markdown",
   "metadata": {
    "deletable": false,
    "editable": false,
    "id": "Ot25h6XR_Zct",
    "tags": [
     "start_task"
    ]
   },
   "source": [
    "**Задание 13**"
   ]
  },
  {
   "cell_type": "code",
   "execution_count": 13,
   "metadata": {
    "deletable": false,
    "id": "exFHq6tt_Zct"
   },
   "outputs": [],
   "source": [
    "# удаление явных дубликатов, создание новых индексов и удаление старых\n",
    "df = df.drop_duplicates().reset_index(drop=True)"
   ]
  },
  {
   "cell_type": "markdown",
   "metadata": {
    "deletable": false,
    "editable": false,
    "id": "Im2YwBEG_Zct",
    "tags": [
     "start_task"
    ]
   },
   "source": [
    "**Задание 14**"
   ]
  },
  {
   "cell_type": "code",
   "execution_count": 14,
   "metadata": {
    "deletable": false,
    "id": "-8PuNWQ0_Zct"
   },
   "outputs": [
    {
     "data": {
      "text/plain": [
       "0"
      ]
     },
     "execution_count": 14,
     "metadata": {},
     "output_type": "execute_result"
    }
   ],
   "source": [
    "# проверка на отсутствие явных дубликатов\n",
    "df.duplicated().sum()"
   ]
  },
  {
   "cell_type": "markdown",
   "metadata": {
    "deletable": false,
    "editable": false,
    "id": "eSjWwsOh_Zct",
    "tags": [
     "start_task"
    ]
   },
   "source": [
    "**Задание 15**"
   ]
  },
  {
   "cell_type": "code",
   "execution_count": 15,
   "metadata": {
    "deletable": false,
    "id": "JIUcqzZN_Zct"
   },
   "outputs": [
    {
     "data": {
      "text/plain": [
       "array(['acid', 'acoustic', 'action', 'adult', 'africa', 'afrikaans',\n",
       "       'alternative', 'alternativepunk', 'ambient', 'americana',\n",
       "       'animated', 'anime', 'arabesk', 'arabic', 'arena',\n",
       "       'argentinetango', 'art', 'audiobook', 'author', 'avantgarde',\n",
       "       'axé', 'baile', 'balkan', 'beats', 'bigroom', 'black', 'bluegrass',\n",
       "       'blues', 'bollywood', 'bossa', 'brazilian', 'breakbeat', 'breaks',\n",
       "       'broadway', 'cantautori', 'cantopop', 'canzone', 'caribbean',\n",
       "       'caucasian', 'celtic', 'chamber', 'chanson', 'children', 'chill',\n",
       "       'chinese', 'choral', 'christian', 'christmas', 'classical',\n",
       "       'classicmetal', 'club', 'colombian', 'comedy', 'conjazz',\n",
       "       'contemporary', 'country', 'cuban', 'dance', 'dancehall',\n",
       "       'dancepop', 'dark', 'death', 'deep', 'deutschrock', 'deutschspr',\n",
       "       'dirty', 'disco', 'dnb', 'documentary', 'downbeat', 'downtempo',\n",
       "       'drum', 'dub', 'dubstep', 'eastern', 'easy', 'electronic',\n",
       "       'electropop', 'emo', 'entehno', 'epicmetal', 'estrada', 'ethnic',\n",
       "       'eurofolk', 'european', 'experimental', 'extrememetal', 'fado',\n",
       "       'fairytail', 'film', 'fitness', 'flamenco', 'folk', 'folklore',\n",
       "       'folkmetal', 'folkrock', 'folktronica', 'forró', 'frankreich',\n",
       "       'französisch', 'french', 'funk', 'future', 'gangsta', 'garage',\n",
       "       'german', 'ghazal', 'gitarre', 'glitch', 'gospel', 'gothic',\n",
       "       'grime', 'grunge', 'gypsy', 'handsup', \"hard'n'heavy\", 'hardcore',\n",
       "       'hardstyle', 'hardtechno', 'hip', 'hip-hop', 'hiphop',\n",
       "       'historisch', 'holiday', 'hop', 'horror', 'house', 'hymn', 'idm',\n",
       "       'independent', 'indian', 'indie', 'indipop', 'industrial',\n",
       "       'inspirational', 'instrumental', 'international', 'irish', 'jam',\n",
       "       'japanese', 'jazz', 'jewish', 'jpop', 'jungle', 'k-pop',\n",
       "       'karadeniz', 'karaoke', 'kayokyoku', 'korean', 'laiko', 'latin',\n",
       "       'latino', 'leftfield', 'local', 'lounge', 'loungeelectronic',\n",
       "       'lovers', 'malaysian', 'mandopop', 'marschmusik', 'meditative',\n",
       "       'mediterranean', 'melodic', 'metal', 'metalcore', 'mexican',\n",
       "       'middle', 'minimal', 'miscellaneous', 'modern', 'mood', 'mpb',\n",
       "       'muslim', 'native', 'neoklassik', 'neue', 'new', 'newage',\n",
       "       'newwave', 'nu', 'nujazz', 'numetal', 'oceania', 'old', 'opera',\n",
       "       'orchestral', 'other', 'piano', 'podcasts', 'pop', 'popdance',\n",
       "       'popelectronic', 'popeurodance', 'poprussian', 'post',\n",
       "       'posthardcore', 'postrock', 'power', 'progmetal', 'progressive',\n",
       "       'psychedelic', 'punjabi', 'punk', 'quebecois', 'ragga', 'ram',\n",
       "       'rancheras', 'rap', 'rave', 'reggae', 'reggaeton', 'regional',\n",
       "       'relax', 'religious', 'retro', 'rhythm', 'rnb', 'rnr', 'rock',\n",
       "       'rockabilly', 'rockalternative', 'rockindie', 'rockother',\n",
       "       'romance', 'roots', 'ruspop', 'rusrap', 'rusrock', 'russian',\n",
       "       'salsa', 'samba', 'scenic', 'schlager', 'self', 'sertanejo',\n",
       "       'shanson', 'shoegazing', 'showtunes', 'singer', 'ska', 'skarock',\n",
       "       'slow', 'smooth', 'soft', 'soul', 'soulful', 'sound', 'soundtrack',\n",
       "       'southern', 'specialty', 'speech', 'spiritual', 'sport',\n",
       "       'stonerrock', 'surf', 'swing', 'synthpop', 'synthrock',\n",
       "       'sängerportrait', 'tango', 'tanzorchester', 'taraftar', 'tatar',\n",
       "       'tech', 'techno', 'teen', 'thrash', 'top', 'traditional',\n",
       "       'tradjazz', 'trance', 'tribal', 'trip', 'triphop', 'tropical',\n",
       "       'türk', 'türkçe', 'ukrrock', 'unknown', 'urban', 'uzbek',\n",
       "       'variété', 'vi', 'videogame', 'vocal', 'western', 'world',\n",
       "       'worldbeat', 'ïîï', 'электроника'], dtype=object)"
      ]
     },
     "execution_count": 15,
     "metadata": {},
     "output_type": "execute_result"
    }
   ],
   "source": [
    "# просмотр уникальных отсортированных названий жанров\n",
    "df['genre'].sort_values().unique()"
   ]
  },
  {
   "cell_type": "code",
   "execution_count": 16,
   "metadata": {},
   "outputs": [
    {
     "data": {
      "text/plain": [
       "array(['Friday', 'Monday', 'Wednesday'], dtype=object)"
      ]
     },
     "execution_count": 16,
     "metadata": {},
     "output_type": "execute_result"
    }
   ],
   "source": [
    "# просмотр уникальных отсортированных дней недели\n",
    "df['day'].sort_values().unique()"
   ]
  },
  {
   "cell_type": "code",
   "execution_count": 17,
   "metadata": {},
   "outputs": [
    {
     "data": {
      "text/plain": [
       "array(['Moscow', 'Saint-Petersburg'], dtype=object)"
      ]
     },
     "execution_count": 17,
     "metadata": {},
     "output_type": "execute_result"
    }
   ],
   "source": [
    "# просмотр уникальных отсортированных городов\n",
    "df['city'].sort_values().unique()"
   ]
  },
  {
   "cell_type": "markdown",
   "metadata": {
    "deletable": false,
    "editable": false,
    "id": "qej-Qmuo_Zct",
    "tags": [
     "start_task"
    ]
   },
   "source": [
    "**Задание 16**"
   ]
  },
  {
   "cell_type": "code",
   "execution_count": 18,
   "metadata": {
    "deletable": false,
    "id": "ErNDkmns_Zct"
   },
   "outputs": [],
   "source": [
    "# устранение неявных дубликатов\n",
    "df = df.replace('hip', 'hiphop')\n",
    "df = df.replace('hip-hop', 'hiphop')\n",
    "df = df.replace('hop', 'hiphop')"
   ]
  },
  {
   "cell_type": "markdown",
   "metadata": {
    "deletable": false,
    "editable": false,
    "id": "zQKF16_RG15m",
    "tags": [
     "start_task"
    ]
   },
   "source": [
    "**Задание 17**"
   ]
  },
  {
   "cell_type": "code",
   "execution_count": 19,
   "metadata": {
    "deletable": false,
    "id": "wvixALnFG15m"
   },
   "outputs": [
    {
     "data": {
      "text/plain": [
       "array(['acid', 'acoustic', 'action', 'adult', 'africa', 'afrikaans',\n",
       "       'alternative', 'alternativepunk', 'ambient', 'americana',\n",
       "       'animated', 'anime', 'arabesk', 'arabic', 'arena',\n",
       "       'argentinetango', 'art', 'audiobook', 'author', 'avantgarde',\n",
       "       'axé', 'baile', 'balkan', 'beats', 'bigroom', 'black', 'bluegrass',\n",
       "       'blues', 'bollywood', 'bossa', 'brazilian', 'breakbeat', 'breaks',\n",
       "       'broadway', 'cantautori', 'cantopop', 'canzone', 'caribbean',\n",
       "       'caucasian', 'celtic', 'chamber', 'chanson', 'children', 'chill',\n",
       "       'chinese', 'choral', 'christian', 'christmas', 'classical',\n",
       "       'classicmetal', 'club', 'colombian', 'comedy', 'conjazz',\n",
       "       'contemporary', 'country', 'cuban', 'dance', 'dancehall',\n",
       "       'dancepop', 'dark', 'death', 'deep', 'deutschrock', 'deutschspr',\n",
       "       'dirty', 'disco', 'dnb', 'documentary', 'downbeat', 'downtempo',\n",
       "       'drum', 'dub', 'dubstep', 'eastern', 'easy', 'electronic',\n",
       "       'electropop', 'emo', 'entehno', 'epicmetal', 'estrada', 'ethnic',\n",
       "       'eurofolk', 'european', 'experimental', 'extrememetal', 'fado',\n",
       "       'fairytail', 'film', 'fitness', 'flamenco', 'folk', 'folklore',\n",
       "       'folkmetal', 'folkrock', 'folktronica', 'forró', 'frankreich',\n",
       "       'französisch', 'french', 'funk', 'future', 'gangsta', 'garage',\n",
       "       'german', 'ghazal', 'gitarre', 'glitch', 'gospel', 'gothic',\n",
       "       'grime', 'grunge', 'gypsy', 'handsup', \"hard'n'heavy\", 'hardcore',\n",
       "       'hardstyle', 'hardtechno', 'hiphop', 'historisch', 'holiday',\n",
       "       'horror', 'house', 'hymn', 'idm', 'independent', 'indian', 'indie',\n",
       "       'indipop', 'industrial', 'inspirational', 'instrumental',\n",
       "       'international', 'irish', 'jam', 'japanese', 'jazz', 'jewish',\n",
       "       'jpop', 'jungle', 'k-pop', 'karadeniz', 'karaoke', 'kayokyoku',\n",
       "       'korean', 'laiko', 'latin', 'latino', 'leftfield', 'local',\n",
       "       'lounge', 'loungeelectronic', 'lovers', 'malaysian', 'mandopop',\n",
       "       'marschmusik', 'meditative', 'mediterranean', 'melodic', 'metal',\n",
       "       'metalcore', 'mexican', 'middle', 'minimal', 'miscellaneous',\n",
       "       'modern', 'mood', 'mpb', 'muslim', 'native', 'neoklassik', 'neue',\n",
       "       'new', 'newage', 'newwave', 'nu', 'nujazz', 'numetal', 'oceania',\n",
       "       'old', 'opera', 'orchestral', 'other', 'piano', 'podcasts', 'pop',\n",
       "       'popdance', 'popelectronic', 'popeurodance', 'poprussian', 'post',\n",
       "       'posthardcore', 'postrock', 'power', 'progmetal', 'progressive',\n",
       "       'psychedelic', 'punjabi', 'punk', 'quebecois', 'ragga', 'ram',\n",
       "       'rancheras', 'rap', 'rave', 'reggae', 'reggaeton', 'regional',\n",
       "       'relax', 'religious', 'retro', 'rhythm', 'rnb', 'rnr', 'rock',\n",
       "       'rockabilly', 'rockalternative', 'rockindie', 'rockother',\n",
       "       'romance', 'roots', 'ruspop', 'rusrap', 'rusrock', 'russian',\n",
       "       'salsa', 'samba', 'scenic', 'schlager', 'self', 'sertanejo',\n",
       "       'shanson', 'shoegazing', 'showtunes', 'singer', 'ska', 'skarock',\n",
       "       'slow', 'smooth', 'soft', 'soul', 'soulful', 'sound', 'soundtrack',\n",
       "       'southern', 'specialty', 'speech', 'spiritual', 'sport',\n",
       "       'stonerrock', 'surf', 'swing', 'synthpop', 'synthrock',\n",
       "       'sängerportrait', 'tango', 'tanzorchester', 'taraftar', 'tatar',\n",
       "       'tech', 'techno', 'teen', 'thrash', 'top', 'traditional',\n",
       "       'tradjazz', 'trance', 'tribal', 'trip', 'triphop', 'tropical',\n",
       "       'türk', 'türkçe', 'ukrrock', 'unknown', 'urban', 'uzbek',\n",
       "       'variété', 'vi', 'videogame', 'vocal', 'western', 'world',\n",
       "       'worldbeat', 'ïîï', 'электроника'], dtype=object)"
      ]
     },
     "execution_count": 19,
     "metadata": {},
     "output_type": "execute_result"
    }
   ],
   "source": [
    "# проверка на отсутствие неявных дубликатов\n",
    "df['genre'].sort_values().unique()"
   ]
  },
  {
   "cell_type": "markdown",
   "metadata": {
    "deletable": false,
    "editable": false,
    "id": "jz6a9-7HQUDd"
   },
   "source": [
    "**Выводы**\n",
    "\n",
    "Предобработка обнаружила три проблемы в данных:\n",
    "\n",
    "- нарушения в стиле заголовков,\n",
    "- пропущенные значения,\n",
    "- дубликаты — явные и неявные.\n",
    "\n",
    "Вы исправили заголовки, чтобы упростить работу с таблицей. Без дубликатов исследование станет более точным.\n",
    "\n",
    "Пропущенные значения вы заменили на `'unknown'`. Ещё предстоит увидеть, не повредят ли исследованию пропуски в колонке `genre`.\n",
    "\n",
    "Теперь можно перейти к проверке гипотез."
   ]
  },
  {
   "cell_type": "markdown",
   "metadata": {
    "deletable": false,
    "editable": false,
    "id": "WttZHXH0SqKk"
   },
   "source": [
    "## Проверка гипотез"
   ]
  },
  {
   "cell_type": "markdown",
   "metadata": {
    "deletable": false,
    "editable": false,
    "id": "Im936VVi_Zcu"
   },
   "source": [
    "### Сравнение поведения пользователей двух столиц"
   ]
  },
  {
   "cell_type": "markdown",
   "metadata": {
    "deletable": false,
    "editable": false,
    "id": "nwt_MuaL_Zcu"
   },
   "source": [
    "Первая гипотеза утверждает, что пользователи по-разному слушают музыку в Москве и Санкт-Петербурге. Проверим это предположение по данным о трёх днях недели — понедельнике, среде и пятнице. Для этого:\n",
    "\n",
    "* Разделим пользователей Москвы и Санкт-Петербурга.\n",
    "* Сравним, сколько треков послушала каждая группа пользователей в понедельник, среду и пятницу.\n"
   ]
  },
  {
   "cell_type": "markdown",
   "metadata": {
    "deletable": false,
    "id": "8Dw_YMmT_Zcu",
    "tags": [
     "start_task"
    ]
   },
   "source": [
    "**Задание 18**\n",
    "\n"
   ]
  },
  {
   "cell_type": "code",
   "execution_count": 20,
   "metadata": {
    "deletable": false,
    "id": "0_Qs96oh_Zcu"
   },
   "outputs": [
    {
     "data": {
      "text/plain": [
       "city\n",
       "Moscow              42741\n",
       "Saint-Petersburg    18512\n",
       "Name: city, dtype: int64"
      ]
     },
     "execution_count": 20,
     "metadata": {},
     "output_type": "execute_result"
    }
   ],
   "source": [
    "# подсчёт прослушиваний в каждом городе\n",
    "df.groupby('city')['city'].count()"
   ]
  },
  {
   "cell_type": "markdown",
   "metadata": {
    "id": "dzli3w8o_Zcu",
    "tags": [
     "start_task"
    ]
   },
   "source": [
    "**Задание 19**\n"
   ]
  },
  {
   "cell_type": "code",
   "execution_count": 21,
   "metadata": {
    "deletable": false,
    "id": "uZMKjiJz_Zcu"
   },
   "outputs": [
    {
     "data": {
      "text/plain": [
       "day\n",
       "Friday       21840\n",
       "Monday       21354\n",
       "Wednesday    18059\n",
       "Name: day, dtype: int64"
      ]
     },
     "execution_count": 21,
     "metadata": {},
     "output_type": "execute_result"
    }
   ],
   "source": [
    "# подсчёт прослушиваний в каждый из трёх дней\n",
    "df.groupby('day')['day'].count()"
   ]
  },
  {
   "cell_type": "markdown",
   "metadata": {
    "deletable": false,
    "editable": false,
    "id": "POzs8bGa_Zcu",
    "tags": [
     "start_task"
    ]
   },
   "source": [
    "**Задание 20**"
   ]
  },
  {
   "cell_type": "code",
   "execution_count": 22,
   "metadata": {
    "deletable": false,
    "id": "Nz3GdQB1_Zcu"
   },
   "outputs": [],
   "source": [
    "# Функция number_tracks для подсчета количества прослушенных треков в определенный день в определенном городе\n",
    "def number_tracks(filter_day, filter_city, music_df):\n",
    "    # выберите только строки df со значением переменной filter_day в столбце day\n",
    "    track_list = music_df[music_df['day'] == filter_day]\n",
    "    # выберите только строки track_list со значением переменной filter_city в столбце city\n",
    "    track_list = track_list[track_list['city'] == filter_city] \n",
    "     # вызовите метод подсчета строк для track_list и выберите столбец user_id\n",
    "    track_list_count = track_list['user_id'].count()\n",
    "    # верните значение track_list_count из функции\n",
    "    return track_list_count"
   ]
  },
  {
   "cell_type": "markdown",
   "metadata": {
    "deletable": false,
    "editable": false,
    "id": "ytf7xFrFJQ2r",
    "tags": [
     "start_task"
    ]
   },
   "source": [
    "**Задание 21**"
   ]
  },
  {
   "cell_type": "code",
   "execution_count": 23,
   "metadata": {
    "deletable": false,
    "id": "rJcRATNQ_Zcu"
   },
   "outputs": [
    {
     "data": {
      "text/plain": [
       "15740"
      ]
     },
     "execution_count": 23,
     "metadata": {},
     "output_type": "execute_result"
    }
   ],
   "source": [
    "# количество прослушиваний в Москве по понедельникам\n",
    "number_tracks('Monday', 'Moscow', df)    "
   ]
  },
  {
   "cell_type": "code",
   "execution_count": 24,
   "metadata": {
    "deletable": false,
    "id": "hq_ncZ5T_Zcu"
   },
   "outputs": [
    {
     "data": {
      "text/plain": [
       "5614"
      ]
     },
     "execution_count": 24,
     "metadata": {},
     "output_type": "execute_result"
    }
   ],
   "source": [
    "# количество прослушиваний в Санкт-Петербурге по понедельникам\n",
    "number_tracks('Monday', 'Saint-Petersburg', df) "
   ]
  },
  {
   "cell_type": "code",
   "execution_count": 25,
   "metadata": {
    "deletable": false,
    "id": "_NTy2VPU_Zcu"
   },
   "outputs": [
    {
     "data": {
      "text/plain": [
       "11056"
      ]
     },
     "execution_count": 25,
     "metadata": {},
     "output_type": "execute_result"
    }
   ],
   "source": [
    "# количество прослушиваний в Москве по средам\n",
    "number_tracks('Wednesday', 'Moscow', df) "
   ]
  },
  {
   "cell_type": "code",
   "execution_count": 26,
   "metadata": {
    "deletable": false,
    "id": "j2y3TAwo_Zcu"
   },
   "outputs": [
    {
     "data": {
      "text/plain": [
       "7003"
      ]
     },
     "execution_count": 26,
     "metadata": {},
     "output_type": "execute_result"
    }
   ],
   "source": [
    "# количество прослушиваний в Санкт-Петербурге по средам\n",
    "number_tracks('Wednesday', 'Saint-Petersburg', df) "
   ]
  },
  {
   "cell_type": "code",
   "execution_count": 27,
   "metadata": {
    "deletable": false,
    "id": "vYDw5u_K_Zcu",
    "scrolled": true
   },
   "outputs": [
    {
     "data": {
      "text/plain": [
       "15945"
      ]
     },
     "execution_count": 27,
     "metadata": {},
     "output_type": "execute_result"
    }
   ],
   "source": [
    "# количество прослушиваний в Москве по пятницам\n",
    "number_tracks('Friday', 'Moscow', df) "
   ]
  },
  {
   "cell_type": "code",
   "execution_count": 28,
   "metadata": {
    "deletable": false,
    "id": "8_yzFtW3_Zcu"
   },
   "outputs": [
    {
     "data": {
      "text/plain": [
       "5895"
      ]
     },
     "execution_count": 28,
     "metadata": {},
     "output_type": "execute_result"
    }
   ],
   "source": [
    "# количество прослушиваний в Санкт-Петербурге по пятницам\n",
    "number_tracks('Friday', 'Saint-Petersburg', df) "
   ]
  },
  {
   "cell_type": "markdown",
   "metadata": {
    "deletable": false,
    "editable": false,
    "id": "7QXffbO-_Zcu",
    "tags": [
     "start_task"
    ]
   },
   "source": [
    "**Задание 22**"
   ]
  },
  {
   "cell_type": "code",
   "execution_count": 29,
   "metadata": {
    "deletable": false,
    "id": "APAcLpOr_Zcu"
   },
   "outputs": [
    {
     "data": {
      "text/html": [
       "<div>\n",
       "<style scoped>\n",
       "    .dataframe tbody tr th:only-of-type {\n",
       "        vertical-align: middle;\n",
       "    }\n",
       "\n",
       "    .dataframe tbody tr th {\n",
       "        vertical-align: top;\n",
       "    }\n",
       "\n",
       "    .dataframe thead th {\n",
       "        text-align: right;\n",
       "    }\n",
       "</style>\n",
       "<table border=\"1\" class=\"dataframe\">\n",
       "  <thead>\n",
       "    <tr style=\"text-align: right;\">\n",
       "      <th></th>\n",
       "      <th>city</th>\n",
       "      <th>Monday</th>\n",
       "      <th>Wednesday</th>\n",
       "      <th>Friday</th>\n",
       "    </tr>\n",
       "  </thead>\n",
       "  <tbody>\n",
       "    <tr>\n",
       "      <th>0</th>\n",
       "      <td>Moscow</td>\n",
       "      <td>15740</td>\n",
       "      <td>11056</td>\n",
       "      <td>15945</td>\n",
       "    </tr>\n",
       "    <tr>\n",
       "      <th>1</th>\n",
       "      <td>Saint-Petersburg</td>\n",
       "      <td>5614</td>\n",
       "      <td>7003</td>\n",
       "      <td>5895</td>\n",
       "    </tr>\n",
       "  </tbody>\n",
       "</table>\n",
       "</div>"
      ],
      "text/plain": [
       "               city  Monday  Wednesday  Friday\n",
       "0            Moscow   15740      11056   15945\n",
       "1  Saint-Petersburg    5614       7003    5895"
      ]
     },
     "execution_count": 29,
     "metadata": {},
     "output_type": "execute_result"
    }
   ],
   "source": [
    "# создание таблицы с результатами: город, понедельник, вторник, среда\n",
    "music_data = [['Moscow', 15740, 11056, 15945], ['Saint-Petersburg', 5614, 7003, 5895]]\n",
    "music_columns = ['city', 'Monday', 'Wednesday', 'Friday']\n",
    "pd.DataFrame(data=music_data, columns=music_columns)"
   ]
  },
  {
   "cell_type": "markdown",
   "metadata": {
    "deletable": false,
    "editable": false,
    "id": "-EgPIHYu_Zcu"
   },
   "source": [
    "**Выводы**\n",
    "\n",
    "Данные показывают разницу поведения пользователей:\n",
    "\n",
    "- В Москве пик прослушиваний приходится на понедельник и пятницу, а в среду заметен спад.\n",
    "- В Петербурге, наоборот, больше слушают музыку по средам. Активность в понедельник и пятницу здесь почти в равной мере уступает среде.\n",
    "\n",
    "Значит, данные говорят в пользу первой гипотезы."
   ]
  },
  {
   "cell_type": "markdown",
   "metadata": {
    "deletable": false,
    "editable": false,
    "id": "atZAxtq4_Zcu"
   },
   "source": [
    "### Музыка в начале и в конце недели"
   ]
  },
  {
   "cell_type": "markdown",
   "metadata": {
    "deletable": false,
    "editable": false,
    "id": "eXrQqXFH_Zcu"
   },
   "source": [
    "Согласно второй гипотезе, утром в понедельник в Москве преобладают одни жанры, а в Петербурге — другие. Так же и вечером пятницы преобладают разные жанры — в зависимости от города."
   ]
  },
  {
   "cell_type": "markdown",
   "metadata": {
    "deletable": false,
    "editable": false,
    "id": "S8UcW6Hw_Zcu",
    "tags": [
     "start_task"
    ]
   },
   "source": [
    "**Задание 23**"
   ]
  },
  {
   "cell_type": "code",
   "execution_count": 30,
   "metadata": {
    "deletable": false,
    "id": "qeaFfM_P_Zcu"
   },
   "outputs": [],
   "source": [
    "# получение таблицы moscow_general из тех строк таблицы df, для которых значение в столбце 'city' равно 'Moscow'\n",
    "moscow_general = df[df['city'] == 'Moscow']"
   ]
  },
  {
   "cell_type": "code",
   "execution_count": 31,
   "metadata": {
    "deletable": false,
    "id": "ORaVRKto_Zcu"
   },
   "outputs": [],
   "source": [
    "# получение таблицы spb_general из тех строк таблицы df, для которых значение в столбце 'city' равно 'Saint-Petersburg'\n",
    "spb_general = df[df['city'] == 'Saint-Petersburg']"
   ]
  },
  {
   "cell_type": "markdown",
   "metadata": {
    "deletable": false,
    "editable": false,
    "id": "MEJV-CX2_Zcu",
    "tags": [
     "start_task"
    ]
   },
   "source": [
    "**Задание 24**"
   ]
  },
  {
   "cell_type": "code",
   "execution_count": 37,
   "metadata": {
    "deletable": false,
    "id": "laJT9BYl_Zcu"
   },
   "outputs": [],
   "source": [
    "def genre_weekday(music_df, day, time1, time2):\n",
    "    # последовательная фильтрация\n",
    "    # оставляем в genre_df только те строки df, у которых день равен day\n",
    "    genre_df = music_df[music_df['day'] == day]\n",
    "    # оставляем в genre_df только те строки genre_df, у которых время меньше time2\n",
    "    genre_df = genre_df[genre_df['time'] < time2]\n",
    "    # оставляем в genre_df только те строки genre_df, у которых время больше time1\n",
    "    genre_df = genre_df[genre_df['time'] > time1] \n",
    "    # сгруппируем отфильтрованный датафрейм по столбцу с названиями жанров, возьмём столбец genre и посчитаем кол-во строк для каждого жанра методом count()\n",
    "    genre_groups = genre_df.groupby('genre')['genre'].count()\n",
    "    # отсортируем результат по убыванию (чтобы в начале Series оказались самые популярные жанры)\n",
    "    genre_groups = genre_groups.sort_values(ascending=False)\n",
    "    # вернём Series с 10 самыми популярными жанрами в указанный отрезок времени заданного дня\n",
    "    return genre_groups.head(10)"
   ]
  },
  {
   "cell_type": "markdown",
   "metadata": {
    "deletable": false,
    "editable": false,
    "id": "la2s2_PF_Zcu",
    "tags": [
     "start_task"
    ]
   },
   "source": [
    "**Задание 25**"
   ]
  },
  {
   "cell_type": "code",
   "execution_count": 38,
   "metadata": {
    "deletable": false,
    "id": "yz7itPUQ_Zcu"
   },
   "outputs": [
    {
     "data": {
      "text/plain": [
       "genre\n",
       "pop            781\n",
       "dance          549\n",
       "electronic     480\n",
       "rock           474\n",
       "hiphop         286\n",
       "ruspop         186\n",
       "world          181\n",
       "rusrap         175\n",
       "alternative    164\n",
       "unknown        161\n",
       "Name: genre, dtype: int64"
      ]
     },
     "execution_count": 38,
     "metadata": {},
     "output_type": "execute_result"
    }
   ],
   "source": [
    "# вызов функции для утра понедельника в Москве (вместо df — таблица moscow_general)\n",
    "genre_weekday(moscow_general, 'Monday', '07:00', '11:00') "
   ]
  },
  {
   "cell_type": "code",
   "execution_count": 39,
   "metadata": {
    "deletable": false,
    "id": "kwUcHPdy_Zcu"
   },
   "outputs": [
    {
     "data": {
      "text/plain": [
       "genre\n",
       "pop            218\n",
       "dance          182\n",
       "rock           162\n",
       "electronic     147\n",
       "hiphop          80\n",
       "ruspop          64\n",
       "alternative     58\n",
       "rusrap          55\n",
       "jazz            44\n",
       "classical       40\n",
       "Name: genre, dtype: int64"
      ]
     },
     "execution_count": 39,
     "metadata": {},
     "output_type": "execute_result"
    }
   ],
   "source": [
    "# вызов функции для утра понедельника в Петербурге (вместо df — таблица spb_general)\n",
    "genre_weekday(spb_general, 'Monday', '07:00', '11:00')"
   ]
  },
  {
   "cell_type": "code",
   "execution_count": 40,
   "metadata": {
    "deletable": false,
    "id": "EzXVRE1o_Zcu"
   },
   "outputs": [
    {
     "data": {
      "text/plain": [
       "genre\n",
       "pop            713\n",
       "rock           517\n",
       "dance          495\n",
       "electronic     482\n",
       "hiphop         273\n",
       "world          208\n",
       "ruspop         170\n",
       "alternative    163\n",
       "classical      163\n",
       "rusrap         142\n",
       "Name: genre, dtype: int64"
      ]
     },
     "execution_count": 40,
     "metadata": {},
     "output_type": "execute_result"
    }
   ],
   "source": [
    "# вызов функции для вечера пятницы в Москве\n",
    "genre_weekday(moscow_general, 'Friday', '17:00', '23:00') "
   ]
  },
  {
   "cell_type": "code",
   "execution_count": 41,
   "metadata": {
    "deletable": false,
    "id": "JZaEKu5v_Zcu"
   },
   "outputs": [
    {
     "data": {
      "text/plain": [
       "genre\n",
       "pop            256\n",
       "electronic     216\n",
       "rock           216\n",
       "dance          210\n",
       "hiphop          97\n",
       "alternative     63\n",
       "jazz            61\n",
       "classical       60\n",
       "rusrap          59\n",
       "world           54\n",
       "Name: genre, dtype: int64"
      ]
     },
     "execution_count": 41,
     "metadata": {},
     "output_type": "execute_result"
    }
   ],
   "source": [
    "# вызов функции для вечера пятницы в Петербурге\n",
    "genre_weekday(spb_general, 'Friday', '17:00', '23:00') "
   ]
  },
  {
   "cell_type": "markdown",
   "metadata": {
    "deletable": false,
    "editable": false,
    "id": "wrCe4MNX_Zcu"
   },
   "source": [
    "**Выводы**\n",
    "\n",
    "Если сравнить топ-10 жанров в понедельник утром, можно сделать такие выводы:\n",
    "\n",
    "1. В Москве и Петербурге слушают похожую музыку. Единственное различие — в московский рейтинг вошёл жанр “world”, а в петербургский — джаз и классика.\n",
    "\n",
    "2. В Москве пропущенных значений оказалось так много, что значение `'unknown'` заняло десятое место среди самых популярных жанров. Значит, пропущенные значения занимают существенную долю в данных и угрожают достоверности исследования.\n",
    "\n",
    "Вечер пятницы не меняет эту картину. Некоторые жанры поднимаются немного выше, другие спускаются, но в целом топ-10 остаётся тем же самым.\n",
    "\n",
    "Таким образом, вторая гипотеза подтвердилась лишь частично:\n",
    "* Пользователи слушают похожую музыку в начале недели и в конце.\n",
    "* Разница между Москвой и Петербургом не слишком выражена. В Москве чаще слушают русскую популярную музыку, в Петербурге — джаз.\n",
    "\n",
    "Однако пропуски в данных ставят под сомнение этот результат. В Москве их так много, что рейтинг топ-10 мог бы выглядеть иначе, если бы не утерянные  данные о жанрах."
   ]
  },
  {
   "cell_type": "markdown",
   "metadata": {
    "deletable": false,
    "editable": false,
    "id": "JolODAqr_Zcu"
   },
   "source": [
    "### Жанровые предпочтения в Москве и Петербурге\n",
    "\n",
    "Гипотеза: Петербург — столица рэпа, музыку этого жанра там слушают чаще, чем в Москве.  А Москва — город контрастов, в котором, тем не менее, преобладает поп-музыка."
   ]
  },
  {
   "cell_type": "markdown",
   "metadata": {
    "deletable": false,
    "editable": false,
    "id": "DlegSvaT_Zcu",
    "tags": [
     "start_task"
    ]
   },
   "source": [
    "**Задание 26**"
   ]
  },
  {
   "cell_type": "code",
   "execution_count": 43,
   "metadata": {
    "deletable": false,
    "id": "r19lIPke_Zcu"
   },
   "outputs": [],
   "source": [
    "# одной строкой: группировка таблицы moscow_general по столбцу 'genre', выбор столбца `genre`, подсчёт числа значений 'genre' методом count(), сохранение в moscow_genres\n",
    "moscow_genres = moscow_general.groupby('genre')['genre'].count()\n",
    "# сортировка получившегося Series в порядке убывания и сохранение обратно в moscow_genres\n",
    "moscow_genres = moscow_genres.sort_values(ascending=False)"
   ]
  },
  {
   "cell_type": "markdown",
   "metadata": {
    "deletable": false,
    "editable": false,
    "id": "6kMuomxTiIr8",
    "tags": [
     "start_task"
    ]
   },
   "source": [
    "**Задание 27**"
   ]
  },
  {
   "cell_type": "code",
   "execution_count": 44,
   "metadata": {
    "deletable": false,
    "id": "WhCSooF8_Zcv"
   },
   "outputs": [
    {
     "data": {
      "text/plain": [
       "genre\n",
       "pop            5892\n",
       "dance          4435\n",
       "rock           3965\n",
       "electronic     3786\n",
       "hiphop         2096\n",
       "classical      1616\n",
       "world          1432\n",
       "alternative    1379\n",
       "ruspop         1372\n",
       "rusrap         1161\n",
       "Name: genre, dtype: int64"
      ]
     },
     "execution_count": 44,
     "metadata": {},
     "output_type": "execute_result"
    }
   ],
   "source": [
    "# просмотр первых 10 строк moscow_genres\n",
    "moscow_genres.head(10)"
   ]
  },
  {
   "cell_type": "markdown",
   "metadata": {
    "deletable": false,
    "editable": false,
    "id": "cnPG2vnN_Zcv",
    "tags": [
     "start_task"
    ]
   },
   "source": [
    "**Задание 28**"
   ]
  },
  {
   "cell_type": "code",
   "execution_count": 45,
   "metadata": {
    "deletable": false,
    "id": "gluLIpE7_Zcv"
   },
   "outputs": [],
   "source": [
    "# одной строкой: группировка таблицы spb_general по столбцу 'genre', выбор столбца `genre`, подсчёт числа значений 'genre' методом count(), сохранение в spb_genres\n",
    "spb_genres = spb_general.groupby('genre')['genre'].count()\n",
    "# сортировка получившегося Series в порядке убывания и сохранение обратно в spb_genres\n",
    "spb_genres = spb_genres.sort_values(ascending=False)"
   ]
  },
  {
   "cell_type": "markdown",
   "metadata": {
    "deletable": false,
    "editable": false,
    "id": "5Doha_ODgyQ8",
    "tags": [
     "start_task"
    ]
   },
   "source": [
    "**Задание 29**"
   ]
  },
  {
   "cell_type": "code",
   "execution_count": 46,
   "metadata": {
    "deletable": false,
    "id": "uaGJHjVU_Zcv"
   },
   "outputs": [
    {
     "data": {
      "text/plain": [
       "genre\n",
       "pop            2431\n",
       "dance          1932\n",
       "rock           1879\n",
       "electronic     1736\n",
       "hiphop          960\n",
       "alternative     649\n",
       "classical       646\n",
       "rusrap          564\n",
       "ruspop          538\n",
       "world           515\n",
       "Name: genre, dtype: int64"
      ]
     },
     "execution_count": 46,
     "metadata": {},
     "output_type": "execute_result"
    }
   ],
   "source": [
    "# просмотр первых 10 строк spb_genres\n",
    "spb_genres.head(10)"
   ]
  },
  {
   "cell_type": "markdown",
   "metadata": {
    "deletable": false,
    "editable": false,
    "id": "RY51YJYu_Zcv"
   },
   "source": [
    "**Выводы**"
   ]
  },
  {
   "cell_type": "markdown",
   "metadata": {
    "deletable": false,
    "editable": false,
    "id": "nVhnJEm__Zcv"
   },
   "source": [
    "Гипотеза частично подтвердилась:\n",
    "* Поп-музыка — самый популярный жанр в Москве, как и предполагала гипотеза. Более того, в топ-10 жанров встречается близкий жанр — русская популярная музыка.\n",
    "* Вопреки ожиданиям, рэп одинаково популярен в Москве и Петербурге.\n"
   ]
  },
  {
   "cell_type": "markdown",
   "metadata": {
    "deletable": false,
    "editable": false,
    "id": "ykKQ0N65_Zcv"
   },
   "source": [
    "## Итоги исследования"
   ]
  },
  {
   "cell_type": "markdown",
   "metadata": {
    "deletable": false,
    "editable": false,
    "id": "tjUwbHb3_Zcv"
   },
   "source": [
    "Вы проверили три гипотезы и установили:\n",
    "\n",
    "1. День недели по-разному влияет на активность пользователей в Москве и Петербурге.\n",
    "\n",
    "Первая гипотеза полностью подтвердилась.\n",
    "\n",
    "2. Музыкальные предпочтения не сильно меняются в течение недели — будь то Москва или Петербург. Небольшие различия заметны в начале недели, по понедельникам:\n",
    "* в Москве слушают музыку жанра “world”,\n",
    "* в Петербурге — джаз и классику.\n",
    "\n",
    "Таким образом, вторая гипотеза подтвердилась лишь отчасти. Этот результат мог оказаться иным, если бы не пропуски в данных.\n",
    "\n",
    "3. Во вкусах пользователей Москвы и Петербурга больше общего, чем различий. Вопреки ожиданиям, предпочтения жанров в Петербурге напоминают московские.\n",
    "\n",
    "Третья гипотеза не подтвердилась. Если различия в предпочтениях и существуют, на основной массе пользователей они незаметны.\n",
    "\n",
    "**На практике исследования содержат проверки статистических гипотез.**\n",
    "Из части данных одного сервиса невозможно сделать какие-то выводы о всех пользователях сервиса без методов статистики.\n",
    "Проверки статистических гипотез покажут, насколько они достоверны, исходя из имеющихся данных.\n",
    "С методами проверок гипотез вы ещё познакомитесь в следующих темах."
   ]
  }
 ],
 "metadata": {
  "ExecuteTimeLog": [
   {
    "duration": 107,
    "start_time": "2024-02-12T13:02:38.010Z"
   },
   {
    "duration": 416,
    "start_time": "2024-02-12T13:03:31.910Z"
   },
   {
    "duration": 110,
    "start_time": "2024-02-12T13:09:36.210Z"
   },
   {
    "duration": 167,
    "start_time": "2024-02-12T13:10:53.139Z"
   },
   {
    "duration": 17,
    "start_time": "2024-02-12T13:13:05.197Z"
   },
   {
    "duration": 32,
    "start_time": "2024-02-12T13:13:39.771Z"
   },
   {
    "duration": 2,
    "start_time": "2024-02-12T13:48:26.332Z"
   },
   {
    "duration": 23,
    "start_time": "2024-02-12T13:58:18.084Z"
   },
   {
    "duration": 9,
    "start_time": "2024-02-12T14:02:01.726Z"
   },
   {
    "duration": 32,
    "start_time": "2024-02-12T14:06:19.336Z"
   },
   {
    "duration": 25,
    "start_time": "2024-02-12T14:08:00.256Z"
   },
   {
    "duration": 73,
    "start_time": "2024-02-12T14:17:44.826Z"
   },
   {
    "duration": 4,
    "start_time": "2024-02-12T14:22:36.706Z"
   },
   {
    "duration": 22,
    "start_time": "2024-02-12T14:24:43.286Z"
   },
   {
    "duration": 20,
    "start_time": "2024-02-12T14:25:15.120Z"
   },
   {
    "duration": 20,
    "start_time": "2024-02-12T14:28:16.444Z"
   },
   {
    "duration": 15,
    "start_time": "2024-02-12T14:30:46.958Z"
   },
   {
    "duration": 10,
    "start_time": "2024-02-12T14:34:16.341Z"
   },
   {
    "duration": 85,
    "start_time": "2024-02-12T14:41:51.073Z"
   },
   {
    "duration": 27,
    "start_time": "2024-02-12T14:42:40.519Z"
   },
   {
    "duration": 53,
    "start_time": "2024-02-13T11:10:34.222Z"
   },
   {
    "duration": 6,
    "start_time": "2024-02-13T11:14:05.260Z"
   },
   {
    "duration": 6,
    "start_time": "2024-02-13T11:19:51.623Z"
   },
   {
    "duration": 45,
    "start_time": "2024-02-14T05:00:55.276Z"
   },
   {
    "duration": 6,
    "start_time": "2024-02-14T05:03:53.484Z"
   },
   {
    "duration": 6,
    "start_time": "2024-02-14T05:05:32.472Z"
   },
   {
    "duration": 3,
    "start_time": "2024-02-14T05:10:18.308Z"
   },
   {
    "duration": 5,
    "start_time": "2024-02-14T05:10:36.032Z"
   },
   {
    "duration": 393,
    "start_time": "2024-02-14T06:13:39.987Z"
   },
   {
    "duration": 219,
    "start_time": "2024-02-14T06:13:40.382Z"
   },
   {
    "duration": 16,
    "start_time": "2024-02-14T06:13:40.603Z"
   },
   {
    "duration": 29,
    "start_time": "2024-02-14T06:13:40.621Z"
   },
   {
    "duration": 2,
    "start_time": "2024-02-14T06:13:40.652Z"
   },
   {
    "duration": 3,
    "start_time": "2024-02-14T06:13:40.656Z"
   },
   {
    "duration": 13,
    "start_time": "2024-02-14T06:13:40.665Z"
   },
   {
    "duration": 7,
    "start_time": "2024-02-14T06:13:40.679Z"
   },
   {
    "duration": 28,
    "start_time": "2024-02-14T06:13:40.687Z"
   },
   {
    "duration": 20,
    "start_time": "2024-02-14T06:13:40.717Z"
   },
   {
    "duration": 44,
    "start_time": "2024-02-14T06:13:40.738Z"
   },
   {
    "duration": 71,
    "start_time": "2024-02-14T06:13:40.783Z"
   },
   {
    "duration": 3,
    "start_time": "2024-02-14T06:13:40.865Z"
   },
   {
    "duration": 12,
    "start_time": "2024-02-14T06:13:40.872Z"
   },
   {
    "duration": 5,
    "start_time": "2024-02-14T06:13:40.886Z"
   },
   {
    "duration": 13,
    "start_time": "2024-02-14T06:13:40.893Z"
   },
   {
    "duration": 4,
    "start_time": "2024-02-14T06:13:40.907Z"
   },
   {
    "duration": 3,
    "start_time": "2024-02-14T06:13:40.912Z"
   },
   {
    "duration": 3,
    "start_time": "2024-02-14T06:13:40.917Z"
   },
   {
    "duration": 73,
    "start_time": "2024-02-14T06:13:40.921Z"
   },
   {
    "duration": 0,
    "start_time": "2024-02-14T06:13:40.996Z"
   },
   {
    "duration": 0,
    "start_time": "2024-02-14T06:13:40.997Z"
   },
   {
    "duration": 0,
    "start_time": "2024-02-14T06:13:40.997Z"
   },
   {
    "duration": 0,
    "start_time": "2024-02-14T06:13:40.999Z"
   },
   {
    "duration": 0,
    "start_time": "2024-02-14T06:13:41.000Z"
   },
   {
    "duration": 0,
    "start_time": "2024-02-14T06:13:41.000Z"
   },
   {
    "duration": 0,
    "start_time": "2024-02-14T06:13:41.001Z"
   },
   {
    "duration": 0,
    "start_time": "2024-02-14T06:13:41.003Z"
   },
   {
    "duration": 0,
    "start_time": "2024-02-14T06:13:41.004Z"
   },
   {
    "duration": 0,
    "start_time": "2024-02-14T06:13:41.005Z"
   },
   {
    "duration": 0,
    "start_time": "2024-02-14T06:13:41.006Z"
   },
   {
    "duration": 0,
    "start_time": "2024-02-14T06:13:41.007Z"
   },
   {
    "duration": 0,
    "start_time": "2024-02-14T06:13:41.008Z"
   },
   {
    "duration": 0,
    "start_time": "2024-02-14T06:13:41.009Z"
   },
   {
    "duration": 0,
    "start_time": "2024-02-14T06:13:41.010Z"
   },
   {
    "duration": 0,
    "start_time": "2024-02-14T06:13:41.011Z"
   },
   {
    "duration": 0,
    "start_time": "2024-02-14T06:13:41.012Z"
   },
   {
    "duration": 0,
    "start_time": "2024-02-14T06:13:41.013Z"
   },
   {
    "duration": 3,
    "start_time": "2024-02-14T06:33:31.051Z"
   },
   {
    "duration": 224,
    "start_time": "2024-02-14T06:33:31.056Z"
   },
   {
    "duration": 11,
    "start_time": "2024-02-14T06:33:31.282Z"
   },
   {
    "duration": 56,
    "start_time": "2024-02-14T06:33:31.295Z"
   },
   {
    "duration": 21,
    "start_time": "2024-02-14T06:33:31.353Z"
   },
   {
    "duration": 26,
    "start_time": "2024-02-14T06:33:31.376Z"
   },
   {
    "duration": 77,
    "start_time": "2024-02-14T06:33:31.404Z"
   },
   {
    "duration": 31,
    "start_time": "2024-02-14T06:33:31.483Z"
   },
   {
    "duration": 72,
    "start_time": "2024-02-14T06:33:31.517Z"
   },
   {
    "duration": 65,
    "start_time": "2024-02-14T06:33:31.591Z"
   },
   {
    "duration": 43,
    "start_time": "2024-02-14T06:33:31.657Z"
   },
   {
    "duration": 2,
    "start_time": "2024-02-14T06:33:54.272Z"
   },
   {
    "duration": 184,
    "start_time": "2024-02-14T06:33:56.455Z"
   },
   {
    "duration": 10,
    "start_time": "2024-02-14T06:33:57.784Z"
   },
   {
    "duration": 30,
    "start_time": "2024-02-14T06:33:58.757Z"
   },
   {
    "duration": 3,
    "start_time": "2024-02-14T06:33:59.998Z"
   },
   {
    "duration": 3,
    "start_time": "2024-02-14T06:34:00.941Z"
   },
   {
    "duration": 7,
    "start_time": "2024-02-14T06:34:01.349Z"
   },
   {
    "duration": 3,
    "start_time": "2024-02-14T06:34:02.036Z"
   },
   {
    "duration": 25,
    "start_time": "2024-02-14T06:34:02.468Z"
   },
   {
    "duration": 20,
    "start_time": "2024-02-14T06:34:02.900Z"
   },
   {
    "duration": 26,
    "start_time": "2024-02-14T06:34:03.500Z"
   },
   {
    "duration": 63,
    "start_time": "2024-02-14T06:34:04.395Z"
   },
   {
    "duration": 2,
    "start_time": "2024-02-14T06:34:16.322Z"
   },
   {
    "duration": 199,
    "start_time": "2024-02-14T06:34:16.326Z"
   },
   {
    "duration": 10,
    "start_time": "2024-02-14T06:34:16.526Z"
   },
   {
    "duration": 36,
    "start_time": "2024-02-14T06:34:16.538Z"
   },
   {
    "duration": 2,
    "start_time": "2024-02-14T06:34:16.575Z"
   },
   {
    "duration": 4,
    "start_time": "2024-02-14T06:34:16.578Z"
   },
   {
    "duration": 8,
    "start_time": "2024-02-14T06:34:16.583Z"
   },
   {
    "duration": 3,
    "start_time": "2024-02-14T06:34:16.592Z"
   },
   {
    "duration": 27,
    "start_time": "2024-02-14T06:34:16.596Z"
   },
   {
    "duration": 49,
    "start_time": "2024-02-14T06:34:16.626Z"
   },
   {
    "duration": 30,
    "start_time": "2024-02-14T06:34:16.677Z"
   },
   {
    "duration": 78,
    "start_time": "2024-02-14T06:34:16.709Z"
   },
   {
    "duration": 3,
    "start_time": "2024-02-14T06:34:16.788Z"
   },
   {
    "duration": 15,
    "start_time": "2024-02-14T06:34:16.793Z"
   },
   {
    "duration": 5,
    "start_time": "2024-02-14T06:34:16.810Z"
   },
   {
    "duration": 4,
    "start_time": "2024-02-14T06:34:16.816Z"
   },
   {
    "duration": 13,
    "start_time": "2024-02-14T06:34:16.821Z"
   },
   {
    "duration": 7,
    "start_time": "2024-02-14T06:34:16.835Z"
   },
   {
    "duration": 3,
    "start_time": "2024-02-14T06:34:16.844Z"
   },
   {
    "duration": 78,
    "start_time": "2024-02-14T06:34:16.849Z"
   },
   {
    "duration": 0,
    "start_time": "2024-02-14T06:34:16.929Z"
   },
   {
    "duration": 0,
    "start_time": "2024-02-14T06:34:16.931Z"
   },
   {
    "duration": 0,
    "start_time": "2024-02-14T06:34:16.932Z"
   },
   {
    "duration": 0,
    "start_time": "2024-02-14T06:34:16.933Z"
   },
   {
    "duration": 0,
    "start_time": "2024-02-14T06:34:16.934Z"
   },
   {
    "duration": 0,
    "start_time": "2024-02-14T06:34:16.935Z"
   },
   {
    "duration": 0,
    "start_time": "2024-02-14T06:34:16.936Z"
   },
   {
    "duration": 0,
    "start_time": "2024-02-14T06:34:16.938Z"
   },
   {
    "duration": 0,
    "start_time": "2024-02-14T06:34:16.939Z"
   },
   {
    "duration": 0,
    "start_time": "2024-02-14T06:34:16.940Z"
   },
   {
    "duration": 0,
    "start_time": "2024-02-14T06:34:16.941Z"
   },
   {
    "duration": 0,
    "start_time": "2024-02-14T06:34:16.942Z"
   },
   {
    "duration": 0,
    "start_time": "2024-02-14T06:34:16.943Z"
   },
   {
    "duration": 0,
    "start_time": "2024-02-14T06:34:16.944Z"
   },
   {
    "duration": 0,
    "start_time": "2024-02-14T06:34:16.945Z"
   },
   {
    "duration": 0,
    "start_time": "2024-02-14T06:34:16.947Z"
   },
   {
    "duration": 0,
    "start_time": "2024-02-14T06:34:16.948Z"
   },
   {
    "duration": 0,
    "start_time": "2024-02-14T06:34:16.949Z"
   },
   {
    "duration": 410,
    "start_time": "2024-02-14T06:35:09.648Z"
   },
   {
    "duration": 182,
    "start_time": "2024-02-14T06:35:10.060Z"
   },
   {
    "duration": 16,
    "start_time": "2024-02-14T06:35:10.244Z"
   },
   {
    "duration": 36,
    "start_time": "2024-02-14T06:35:10.264Z"
   },
   {
    "duration": 3,
    "start_time": "2024-02-14T06:35:10.303Z"
   },
   {
    "duration": 21,
    "start_time": "2024-02-14T06:35:10.307Z"
   },
   {
    "duration": 15,
    "start_time": "2024-02-14T06:35:10.329Z"
   },
   {
    "duration": 20,
    "start_time": "2024-02-14T06:35:10.346Z"
   },
   {
    "duration": 32,
    "start_time": "2024-02-14T06:35:10.367Z"
   },
   {
    "duration": 20,
    "start_time": "2024-02-14T06:35:10.400Z"
   },
   {
    "duration": 26,
    "start_time": "2024-02-14T06:35:10.421Z"
   },
   {
    "duration": 77,
    "start_time": "2024-02-14T06:35:10.448Z"
   },
   {
    "duration": 2,
    "start_time": "2024-02-14T06:35:10.527Z"
   },
   {
    "duration": 2,
    "start_time": "2024-02-14T06:35:10.533Z"
   },
   {
    "duration": 6,
    "start_time": "2024-02-14T06:35:10.537Z"
   },
   {
    "duration": 20,
    "start_time": "2024-02-14T06:35:10.545Z"
   },
   {
    "duration": 2,
    "start_time": "2024-02-14T06:35:10.566Z"
   },
   {
    "duration": 5,
    "start_time": "2024-02-14T06:35:10.570Z"
   },
   {
    "duration": 6,
    "start_time": "2024-02-14T06:35:10.576Z"
   },
   {
    "duration": 80,
    "start_time": "2024-02-14T06:35:10.583Z"
   },
   {
    "duration": 0,
    "start_time": "2024-02-14T06:35:10.665Z"
   },
   {
    "duration": 0,
    "start_time": "2024-02-14T06:35:10.666Z"
   },
   {
    "duration": 0,
    "start_time": "2024-02-14T06:35:10.667Z"
   },
   {
    "duration": 0,
    "start_time": "2024-02-14T06:35:10.668Z"
   },
   {
    "duration": 0,
    "start_time": "2024-02-14T06:35:10.669Z"
   },
   {
    "duration": 0,
    "start_time": "2024-02-14T06:35:10.670Z"
   },
   {
    "duration": 0,
    "start_time": "2024-02-14T06:35:10.671Z"
   },
   {
    "duration": 0,
    "start_time": "2024-02-14T06:35:10.672Z"
   },
   {
    "duration": 0,
    "start_time": "2024-02-14T06:35:10.673Z"
   },
   {
    "duration": 0,
    "start_time": "2024-02-14T06:35:10.674Z"
   },
   {
    "duration": 0,
    "start_time": "2024-02-14T06:35:10.675Z"
   },
   {
    "duration": 0,
    "start_time": "2024-02-14T06:35:10.676Z"
   },
   {
    "duration": 0,
    "start_time": "2024-02-14T06:35:10.676Z"
   },
   {
    "duration": 0,
    "start_time": "2024-02-14T06:35:10.677Z"
   },
   {
    "duration": 0,
    "start_time": "2024-02-14T06:35:10.679Z"
   },
   {
    "duration": 1,
    "start_time": "2024-02-14T06:35:10.679Z"
   },
   {
    "duration": 0,
    "start_time": "2024-02-14T06:35:10.680Z"
   },
   {
    "duration": 0,
    "start_time": "2024-02-14T06:35:10.681Z"
   },
   {
    "duration": 75,
    "start_time": "2024-02-14T06:39:10.904Z"
   },
   {
    "duration": 81,
    "start_time": "2024-02-14T06:39:58.931Z"
   },
   {
    "duration": 61,
    "start_time": "2024-02-14T06:52:15.666Z"
   },
   {
    "duration": 66,
    "start_time": "2024-02-14T07:04:43.763Z"
   },
   {
    "duration": 10,
    "start_time": "2024-02-14T07:06:37.504Z"
   },
   {
    "duration": 11,
    "start_time": "2024-02-14T07:09:23.257Z"
   },
   {
    "duration": 10,
    "start_time": "2024-02-14T07:09:34.484Z"
   },
   {
    "duration": 9,
    "start_time": "2024-02-14T07:09:53.587Z"
   },
   {
    "duration": 47,
    "start_time": "2024-02-14T07:10:59.337Z"
   },
   {
    "duration": 56,
    "start_time": "2024-02-14T07:13:12.863Z"
   },
   {
    "duration": 48,
    "start_time": "2024-02-14T07:23:31.053Z"
   },
   {
    "duration": 64,
    "start_time": "2024-02-14T07:24:04.624Z"
   },
   {
    "duration": 79,
    "start_time": "2024-02-14T07:25:13.410Z"
   },
   {
    "duration": 90,
    "start_time": "2024-02-14T07:27:16.761Z"
   },
   {
    "duration": 87,
    "start_time": "2024-02-14T07:30:32.219Z"
   },
   {
    "duration": 3,
    "start_time": "2024-02-14T07:32:05.167Z"
   },
   {
    "duration": 180,
    "start_time": "2024-02-14T07:32:05.171Z"
   },
   {
    "duration": 13,
    "start_time": "2024-02-14T07:32:05.353Z"
   },
   {
    "duration": 32,
    "start_time": "2024-02-14T07:32:05.368Z"
   },
   {
    "duration": 2,
    "start_time": "2024-02-14T07:32:05.402Z"
   },
   {
    "duration": 4,
    "start_time": "2024-02-14T07:32:05.406Z"
   },
   {
    "duration": 11,
    "start_time": "2024-02-14T07:32:05.411Z"
   },
   {
    "duration": 3,
    "start_time": "2024-02-14T07:32:05.424Z"
   },
   {
    "duration": 52,
    "start_time": "2024-02-14T07:32:05.429Z"
   },
   {
    "duration": 29,
    "start_time": "2024-02-14T07:32:05.483Z"
   },
   {
    "duration": 26,
    "start_time": "2024-02-14T07:32:05.514Z"
   },
   {
    "duration": 79,
    "start_time": "2024-02-14T07:32:05.541Z"
   },
   {
    "duration": 72,
    "start_time": "2024-02-14T07:32:05.621Z"
   },
   {
    "duration": 54,
    "start_time": "2024-02-14T07:32:05.695Z"
   },
   {
    "duration": 76,
    "start_time": "2024-02-14T07:32:05.750Z"
   },
   {
    "duration": 3,
    "start_time": "2024-02-14T07:32:05.827Z"
   },
   {
    "duration": 4,
    "start_time": "2024-02-14T07:32:05.831Z"
   },
   {
    "duration": 4,
    "start_time": "2024-02-14T07:32:05.836Z"
   },
   {
    "duration": 26,
    "start_time": "2024-02-14T07:32:05.841Z"
   },
   {
    "duration": 119,
    "start_time": "2024-02-14T07:32:05.869Z"
   },
   {
    "duration": 0,
    "start_time": "2024-02-14T07:32:05.991Z"
   },
   {
    "duration": 0,
    "start_time": "2024-02-14T07:32:05.992Z"
   },
   {
    "duration": 0,
    "start_time": "2024-02-14T07:32:05.993Z"
   },
   {
    "duration": 0,
    "start_time": "2024-02-14T07:32:05.995Z"
   },
   {
    "duration": 0,
    "start_time": "2024-02-14T07:32:05.996Z"
   },
   {
    "duration": 0,
    "start_time": "2024-02-14T07:32:05.998Z"
   },
   {
    "duration": 0,
    "start_time": "2024-02-14T07:32:05.999Z"
   },
   {
    "duration": 0,
    "start_time": "2024-02-14T07:32:06.001Z"
   },
   {
    "duration": 0,
    "start_time": "2024-02-14T07:32:06.003Z"
   },
   {
    "duration": 0,
    "start_time": "2024-02-14T07:32:06.004Z"
   },
   {
    "duration": 0,
    "start_time": "2024-02-14T07:32:06.005Z"
   },
   {
    "duration": 0,
    "start_time": "2024-02-14T07:32:06.007Z"
   },
   {
    "duration": 0,
    "start_time": "2024-02-14T07:32:06.008Z"
   },
   {
    "duration": 0,
    "start_time": "2024-02-14T07:32:06.010Z"
   },
   {
    "duration": 0,
    "start_time": "2024-02-14T07:32:06.011Z"
   },
   {
    "duration": 0,
    "start_time": "2024-02-14T07:32:06.012Z"
   },
   {
    "duration": 0,
    "start_time": "2024-02-14T07:32:06.014Z"
   },
   {
    "duration": 0,
    "start_time": "2024-02-14T07:32:06.015Z"
   },
   {
    "duration": 5,
    "start_time": "2024-02-14T07:44:02.351Z"
   },
   {
    "duration": 81,
    "start_time": "2024-02-14T07:44:39.950Z"
   },
   {
    "duration": 64,
    "start_time": "2024-02-14T07:48:24.423Z"
   },
   {
    "duration": 95,
    "start_time": "2024-02-14T07:48:55.401Z"
   },
   {
    "duration": 87,
    "start_time": "2024-02-14T08:13:26.321Z"
   },
   {
    "duration": 3,
    "start_time": "2024-02-14T09:55:59.062Z"
   },
   {
    "duration": 172,
    "start_time": "2024-02-14T09:55:59.068Z"
   },
   {
    "duration": 10,
    "start_time": "2024-02-14T09:55:59.242Z"
   },
   {
    "duration": 37,
    "start_time": "2024-02-14T09:55:59.254Z"
   },
   {
    "duration": 2,
    "start_time": "2024-02-14T09:55:59.293Z"
   },
   {
    "duration": 4,
    "start_time": "2024-02-14T09:55:59.297Z"
   },
   {
    "duration": 13,
    "start_time": "2024-02-14T09:55:59.302Z"
   },
   {
    "duration": 7,
    "start_time": "2024-02-14T09:55:59.316Z"
   },
   {
    "duration": 50,
    "start_time": "2024-02-14T09:55:59.325Z"
   },
   {
    "duration": 18,
    "start_time": "2024-02-14T09:55:59.377Z"
   },
   {
    "duration": 26,
    "start_time": "2024-02-14T09:55:59.396Z"
   },
   {
    "duration": 73,
    "start_time": "2024-02-14T09:55:59.424Z"
   },
   {
    "duration": 73,
    "start_time": "2024-02-14T09:55:59.498Z"
   },
   {
    "duration": 52,
    "start_time": "2024-02-14T09:55:59.572Z"
   },
   {
    "duration": 61,
    "start_time": "2024-02-14T09:56:34.743Z"
   },
   {
    "duration": 11,
    "start_time": "2024-02-14T10:03:56.548Z"
   },
   {
    "duration": 12,
    "start_time": "2024-02-14T10:06:14.221Z"
   },
   {
    "duration": 14,
    "start_time": "2024-02-14T10:07:45.816Z"
   },
   {
    "duration": 66,
    "start_time": "2024-02-14T10:14:30.120Z"
   },
   {
    "duration": 67,
    "start_time": "2024-02-14T10:15:01.878Z"
   },
   {
    "duration": 70,
    "start_time": "2024-02-14T10:16:45.730Z"
   },
   {
    "duration": 31,
    "start_time": "2024-02-14T10:27:50.165Z"
   },
   {
    "duration": 2,
    "start_time": "2024-02-14T10:28:08.365Z"
   },
   {
    "duration": 12,
    "start_time": "2024-02-14T10:31:00.253Z"
   },
   {
    "duration": 13,
    "start_time": "2024-02-14T10:33:21.007Z"
   },
   {
    "duration": 10,
    "start_time": "2024-02-14T10:34:12.508Z"
   },
   {
    "duration": 14,
    "start_time": "2024-02-14T10:35:13.324Z"
   },
   {
    "duration": 10,
    "start_time": "2024-02-14T10:35:21.245Z"
   },
   {
    "duration": 9,
    "start_time": "2024-02-14T10:39:54.479Z"
   },
   {
    "duration": 339,
    "start_time": "2024-02-14T10:54:23.820Z"
   },
   {
    "duration": 172,
    "start_time": "2024-02-14T10:54:24.161Z"
   },
   {
    "duration": 15,
    "start_time": "2024-02-14T10:54:24.335Z"
   },
   {
    "duration": 38,
    "start_time": "2024-02-14T10:54:24.352Z"
   },
   {
    "duration": 2,
    "start_time": "2024-02-14T10:54:24.392Z"
   },
   {
    "duration": 5,
    "start_time": "2024-02-14T10:54:24.395Z"
   },
   {
    "duration": 13,
    "start_time": "2024-02-14T10:54:24.402Z"
   },
   {
    "duration": 4,
    "start_time": "2024-02-14T10:54:24.417Z"
   },
   {
    "duration": 47,
    "start_time": "2024-02-14T10:54:24.422Z"
   },
   {
    "duration": 19,
    "start_time": "2024-02-14T10:54:24.470Z"
   },
   {
    "duration": 24,
    "start_time": "2024-02-14T10:54:24.490Z"
   },
   {
    "duration": 81,
    "start_time": "2024-02-14T10:54:24.516Z"
   },
   {
    "duration": 85,
    "start_time": "2024-02-14T10:54:24.598Z"
   },
   {
    "duration": 56,
    "start_time": "2024-02-14T10:54:24.685Z"
   },
   {
    "duration": 63,
    "start_time": "2024-02-14T10:54:24.743Z"
   },
   {
    "duration": 12,
    "start_time": "2024-02-14T10:54:24.807Z"
   },
   {
    "duration": 63,
    "start_time": "2024-02-14T10:54:24.820Z"
   },
   {
    "duration": 11,
    "start_time": "2024-02-14T11:06:42.324Z"
   },
   {
    "duration": 19,
    "start_time": "2024-02-14T11:07:42.003Z"
   },
   {
    "duration": 39,
    "start_time": "2024-02-14T11:08:39.618Z"
   },
   {
    "duration": 10,
    "start_time": "2024-02-14T11:10:30.627Z"
   },
   {
    "duration": 66,
    "start_time": "2024-02-14T12:57:08.507Z"
   },
   {
    "duration": 450,
    "start_time": "2024-02-14T12:57:15.565Z"
   },
   {
    "duration": 236,
    "start_time": "2024-02-14T12:57:16.018Z"
   },
   {
    "duration": 17,
    "start_time": "2024-02-14T12:57:16.256Z"
   },
   {
    "duration": 45,
    "start_time": "2024-02-14T12:57:16.275Z"
   },
   {
    "duration": 3,
    "start_time": "2024-02-14T12:57:16.323Z"
   },
   {
    "duration": 21,
    "start_time": "2024-02-14T12:57:16.328Z"
   },
   {
    "duration": 32,
    "start_time": "2024-02-14T12:57:16.350Z"
   },
   {
    "duration": 6,
    "start_time": "2024-02-14T12:57:16.384Z"
   },
   {
    "duration": 34,
    "start_time": "2024-02-14T12:57:16.392Z"
   },
   {
    "duration": 36,
    "start_time": "2024-02-14T12:57:16.427Z"
   },
   {
    "duration": 39,
    "start_time": "2024-02-14T12:57:16.466Z"
   },
   {
    "duration": 103,
    "start_time": "2024-02-14T12:57:16.506Z"
   },
   {
    "duration": 98,
    "start_time": "2024-02-14T12:57:16.611Z"
   },
   {
    "duration": 97,
    "start_time": "2024-02-14T12:57:16.712Z"
   },
   {
    "duration": 90,
    "start_time": "2024-02-14T12:57:16.811Z"
   },
   {
    "duration": 21,
    "start_time": "2024-02-14T12:57:16.903Z"
   },
   {
    "duration": 95,
    "start_time": "2024-02-14T12:57:16.927Z"
   },
   {
    "duration": 17,
    "start_time": "2024-02-14T12:57:17.024Z"
   },
   {
    "duration": 39,
    "start_time": "2024-02-14T12:57:17.043Z"
   },
   {
    "duration": 77,
    "start_time": "2024-02-14T12:57:17.084Z"
   },
   {
    "duration": 0,
    "start_time": "2024-02-14T12:57:17.164Z"
   },
   {
    "duration": 0,
    "start_time": "2024-02-14T12:57:17.165Z"
   },
   {
    "duration": 0,
    "start_time": "2024-02-14T12:57:17.167Z"
   },
   {
    "duration": 0,
    "start_time": "2024-02-14T12:57:17.168Z"
   },
   {
    "duration": 0,
    "start_time": "2024-02-14T12:57:17.170Z"
   },
   {
    "duration": 0,
    "start_time": "2024-02-14T12:57:17.171Z"
   },
   {
    "duration": 0,
    "start_time": "2024-02-14T12:57:17.172Z"
   },
   {
    "duration": 0,
    "start_time": "2024-02-14T12:57:17.173Z"
   },
   {
    "duration": 0,
    "start_time": "2024-02-14T12:57:17.175Z"
   },
   {
    "duration": 0,
    "start_time": "2024-02-14T12:57:17.177Z"
   },
   {
    "duration": 0,
    "start_time": "2024-02-14T12:57:17.178Z"
   },
   {
    "duration": 0,
    "start_time": "2024-02-14T12:57:17.179Z"
   },
   {
    "duration": 0,
    "start_time": "2024-02-14T12:57:17.180Z"
   },
   {
    "duration": 0,
    "start_time": "2024-02-14T12:57:17.182Z"
   },
   {
    "duration": 0,
    "start_time": "2024-02-14T12:57:17.183Z"
   },
   {
    "duration": 0,
    "start_time": "2024-02-14T12:57:17.184Z"
   },
   {
    "duration": 0,
    "start_time": "2024-02-14T12:57:17.186Z"
   },
   {
    "duration": 0,
    "start_time": "2024-02-14T12:57:17.187Z"
   },
   {
    "duration": 4,
    "start_time": "2024-02-14T13:41:59.792Z"
   },
   {
    "duration": 3,
    "start_time": "2024-02-14T13:44:46.314Z"
   },
   {
    "duration": 3,
    "start_time": "2024-02-14T13:47:58.347Z"
   },
   {
    "duration": 369,
    "start_time": "2024-02-16T04:59:30.160Z"
   },
   {
    "duration": 260,
    "start_time": "2024-02-16T04:59:30.530Z"
   },
   {
    "duration": 17,
    "start_time": "2024-02-16T04:59:30.791Z"
   },
   {
    "duration": 55,
    "start_time": "2024-02-16T04:59:30.810Z"
   },
   {
    "duration": 12,
    "start_time": "2024-02-16T04:59:30.868Z"
   },
   {
    "duration": 26,
    "start_time": "2024-02-16T04:59:30.881Z"
   },
   {
    "duration": 39,
    "start_time": "2024-02-16T04:59:30.909Z"
   },
   {
    "duration": 62,
    "start_time": "2024-02-16T04:59:30.950Z"
   },
   {
    "duration": 50,
    "start_time": "2024-02-16T04:59:31.014Z"
   },
   {
    "duration": 51,
    "start_time": "2024-02-16T04:59:31.066Z"
   },
   {
    "duration": 55,
    "start_time": "2024-02-16T04:59:31.119Z"
   },
   {
    "duration": 91,
    "start_time": "2024-02-16T04:59:31.176Z"
   },
   {
    "duration": 84,
    "start_time": "2024-02-16T04:59:31.268Z"
   },
   {
    "duration": 63,
    "start_time": "2024-02-16T04:59:31.356Z"
   },
   {
    "duration": 47,
    "start_time": "2024-02-16T04:59:31.421Z"
   },
   {
    "duration": 37,
    "start_time": "2024-02-16T04:59:31.469Z"
   },
   {
    "duration": 61,
    "start_time": "2024-02-16T04:59:31.508Z"
   },
   {
    "duration": 10,
    "start_time": "2024-02-16T04:59:31.571Z"
   },
   {
    "duration": 27,
    "start_time": "2024-02-16T04:59:31.583Z"
   },
   {
    "duration": 21,
    "start_time": "2024-02-16T04:59:31.612Z"
   },
   {
    "duration": 13,
    "start_time": "2024-02-16T04:59:31.635Z"
   },
   {
    "duration": 16,
    "start_time": "2024-02-16T04:59:31.649Z"
   },
   {
    "duration": 21,
    "start_time": "2024-02-16T04:59:31.667Z"
   },
   {
    "duration": 16,
    "start_time": "2024-02-16T04:59:31.689Z"
   },
   {
    "duration": 15,
    "start_time": "2024-02-16T04:59:31.707Z"
   },
   {
    "duration": 5,
    "start_time": "2024-02-16T04:59:31.724Z"
   },
   {
    "duration": 10,
    "start_time": "2024-02-16T04:59:31.731Z"
   },
   {
    "duration": 7,
    "start_time": "2024-02-16T04:59:31.743Z"
   },
   {
    "duration": 6,
    "start_time": "2024-02-16T04:59:31.751Z"
   },
   {
    "duration": 76,
    "start_time": "2024-02-16T04:59:31.758Z"
   },
   {
    "duration": 0,
    "start_time": "2024-02-16T04:59:31.836Z"
   },
   {
    "duration": 0,
    "start_time": "2024-02-16T04:59:31.837Z"
   },
   {
    "duration": 0,
    "start_time": "2024-02-16T04:59:31.837Z"
   },
   {
    "duration": 0,
    "start_time": "2024-02-16T04:59:31.838Z"
   },
   {
    "duration": 0,
    "start_time": "2024-02-16T04:59:31.839Z"
   },
   {
    "duration": 0,
    "start_time": "2024-02-16T04:59:31.840Z"
   },
   {
    "duration": 0,
    "start_time": "2024-02-16T04:59:31.841Z"
   },
   {
    "duration": 0,
    "start_time": "2024-02-16T04:59:31.842Z"
   },
   {
    "duration": 71,
    "start_time": "2024-02-16T05:16:38.438Z"
   },
   {
    "duration": 84,
    "start_time": "2024-02-16T05:17:50.010Z"
   },
   {
    "duration": 120,
    "start_time": "2024-02-16T05:20:01.977Z"
   },
   {
    "duration": 73,
    "start_time": "2024-02-16T05:20:22.329Z"
   },
   {
    "duration": 75,
    "start_time": "2024-02-16T05:22:49.459Z"
   },
   {
    "duration": 100,
    "start_time": "2024-02-16T05:30:39.894Z"
   },
   {
    "duration": 77,
    "start_time": "2024-02-16T05:37:37.840Z"
   },
   {
    "duration": 91,
    "start_time": "2024-02-16T05:42:17.247Z"
   },
   {
    "duration": 20,
    "start_time": "2024-02-16T06:45:56.750Z"
   },
   {
    "duration": 2,
    "start_time": "2024-02-16T06:46:12.838Z"
   },
   {
    "duration": 186,
    "start_time": "2024-02-16T06:46:12.842Z"
   },
   {
    "duration": 14,
    "start_time": "2024-02-16T06:46:13.030Z"
   },
   {
    "duration": 31,
    "start_time": "2024-02-16T06:46:13.046Z"
   },
   {
    "duration": 3,
    "start_time": "2024-02-16T06:46:13.078Z"
   },
   {
    "duration": 4,
    "start_time": "2024-02-16T06:46:13.082Z"
   },
   {
    "duration": 31,
    "start_time": "2024-02-16T06:46:13.087Z"
   },
   {
    "duration": 3,
    "start_time": "2024-02-16T06:46:13.119Z"
   },
   {
    "duration": 36,
    "start_time": "2024-02-16T06:46:13.125Z"
   },
   {
    "duration": 18,
    "start_time": "2024-02-16T06:46:13.163Z"
   },
   {
    "duration": 48,
    "start_time": "2024-02-16T06:46:13.183Z"
   },
   {
    "duration": 62,
    "start_time": "2024-02-16T06:46:13.233Z"
   },
   {
    "duration": 88,
    "start_time": "2024-02-16T06:46:13.296Z"
   },
   {
    "duration": 60,
    "start_time": "2024-02-16T06:46:13.386Z"
   },
   {
    "duration": 51,
    "start_time": "2024-02-16T06:46:13.448Z"
   },
   {
    "duration": 25,
    "start_time": "2024-02-16T06:46:13.501Z"
   },
   {
    "duration": 56,
    "start_time": "2024-02-16T06:46:13.527Z"
   },
   {
    "duration": 11,
    "start_time": "2024-02-16T06:46:13.584Z"
   },
   {
    "duration": 29,
    "start_time": "2024-02-16T06:46:13.597Z"
   },
   {
    "duration": 10,
    "start_time": "2024-02-16T06:46:13.628Z"
   },
   {
    "duration": 21,
    "start_time": "2024-02-16T06:46:13.640Z"
   },
   {
    "duration": 2,
    "start_time": "2024-02-16T06:46:13.663Z"
   },
   {
    "duration": 3,
    "start_time": "2024-02-16T06:46:13.667Z"
   },
   {
    "duration": 3,
    "start_time": "2024-02-16T06:46:13.673Z"
   },
   {
    "duration": 5,
    "start_time": "2024-02-16T06:46:13.677Z"
   },
   {
    "duration": 11,
    "start_time": "2024-02-16T06:46:13.684Z"
   },
   {
    "duration": 5,
    "start_time": "2024-02-16T06:46:13.696Z"
   },
   {
    "duration": 2,
    "start_time": "2024-02-16T06:46:13.718Z"
   },
   {
    "duration": 8,
    "start_time": "2024-02-16T06:46:13.721Z"
   },
   {
    "duration": 75,
    "start_time": "2024-02-16T06:46:13.730Z"
   },
   {
    "duration": 0,
    "start_time": "2024-02-16T06:46:13.806Z"
   },
   {
    "duration": 0,
    "start_time": "2024-02-16T06:46:13.807Z"
   },
   {
    "duration": 0,
    "start_time": "2024-02-16T06:46:13.808Z"
   },
   {
    "duration": 0,
    "start_time": "2024-02-16T06:46:13.808Z"
   },
   {
    "duration": 0,
    "start_time": "2024-02-16T06:46:13.809Z"
   },
   {
    "duration": 0,
    "start_time": "2024-02-16T06:46:13.810Z"
   },
   {
    "duration": 0,
    "start_time": "2024-02-16T06:46:13.811Z"
   },
   {
    "duration": 0,
    "start_time": "2024-02-16T06:46:13.812Z"
   },
   {
    "duration": 14,
    "start_time": "2024-02-16T06:50:04.208Z"
   },
   {
    "duration": 16,
    "start_time": "2024-02-16T06:53:37.720Z"
   },
   {
    "duration": 15,
    "start_time": "2024-02-16T06:53:40.885Z"
   },
   {
    "duration": 15,
    "start_time": "2024-02-16T06:53:43.181Z"
   },
   {
    "duration": 17,
    "start_time": "2024-02-16T06:53:45.125Z"
   },
   {
    "duration": 15,
    "start_time": "2024-02-16T06:53:49.112Z"
   },
   {
    "duration": 64,
    "start_time": "2024-02-16T07:03:13.444Z"
   },
   {
    "duration": 4,
    "start_time": "2024-02-16T07:04:10.321Z"
   },
   {
    "duration": 11,
    "start_time": "2024-02-16T07:04:59.636Z"
   },
   {
    "duration": 5,
    "start_time": "2024-02-16T07:05:28.605Z"
   },
   {
    "duration": 8,
    "start_time": "2024-02-16T07:06:03.352Z"
   },
   {
    "duration": 724,
    "start_time": "2024-02-16T07:18:16.189Z"
   },
   {
    "duration": 1209,
    "start_time": "2024-02-16T07:21:17.066Z"
   },
   {
    "duration": 12,
    "start_time": "2024-02-16T07:23:35.734Z"
   },
   {
    "duration": 4,
    "start_time": "2024-02-16T07:24:41.873Z"
   },
   {
    "duration": 10,
    "start_time": "2024-02-16T07:25:11.076Z"
   },
   {
    "duration": 10,
    "start_time": "2024-02-16T07:26:22.290Z"
   },
   {
    "duration": 12,
    "start_time": "2024-02-16T07:29:05.562Z"
   },
   {
    "duration": 9,
    "start_time": "2024-02-16T07:29:46.934Z"
   },
   {
    "duration": 5,
    "start_time": "2024-02-16T08:08:21.647Z"
   },
   {
    "duration": 5,
    "start_time": "2024-02-16T08:09:36.209Z"
   },
   {
    "duration": 4,
    "start_time": "2024-02-16T08:10:17.056Z"
   },
   {
    "duration": 10,
    "start_time": "2024-02-16T09:13:34.972Z"
   },
   {
    "duration": 4,
    "start_time": "2024-02-16T09:13:45.030Z"
   },
   {
    "duration": 4,
    "start_time": "2024-02-16T09:15:09.563Z"
   },
   {
    "duration": 5,
    "start_time": "2024-02-16T09:17:07.339Z"
   },
   {
    "duration": 4,
    "start_time": "2024-02-16T09:45:50.740Z"
   },
   {
    "duration": 81,
    "start_time": "2024-02-16T10:02:32.072Z"
   },
   {
    "duration": 75,
    "start_time": "2024-02-16T10:05:06.358Z"
   },
   {
    "duration": 88,
    "start_time": "2024-02-16T10:05:47.167Z"
   },
   {
    "duration": 3,
    "start_time": "2024-02-16T12:14:08.136Z"
   },
   {
    "duration": 181,
    "start_time": "2024-02-16T12:14:08.141Z"
   },
   {
    "duration": 16,
    "start_time": "2024-02-16T12:14:08.323Z"
   },
   {
    "duration": 36,
    "start_time": "2024-02-16T12:14:08.341Z"
   },
   {
    "duration": 2,
    "start_time": "2024-02-16T12:14:08.379Z"
   },
   {
    "duration": 7,
    "start_time": "2024-02-16T12:14:08.382Z"
   },
   {
    "duration": 15,
    "start_time": "2024-02-16T12:14:08.391Z"
   },
   {
    "duration": 3,
    "start_time": "2024-02-16T12:14:08.418Z"
   },
   {
    "duration": 26,
    "start_time": "2024-02-16T12:14:08.422Z"
   },
   {
    "duration": 22,
    "start_time": "2024-02-16T12:14:08.450Z"
   },
   {
    "duration": 44,
    "start_time": "2024-02-16T12:14:08.475Z"
   },
   {
    "duration": 72,
    "start_time": "2024-02-16T12:14:08.522Z"
   },
   {
    "duration": 77,
    "start_time": "2024-02-16T12:14:08.596Z"
   },
   {
    "duration": 58,
    "start_time": "2024-02-16T12:14:08.675Z"
   },
   {
    "duration": 51,
    "start_time": "2024-02-16T12:14:08.735Z"
   },
   {
    "duration": 12,
    "start_time": "2024-02-16T12:14:08.787Z"
   },
   {
    "duration": 65,
    "start_time": "2024-02-16T12:14:08.801Z"
   },
   {
    "duration": 10,
    "start_time": "2024-02-16T12:14:08.868Z"
   },
   {
    "duration": 22,
    "start_time": "2024-02-16T12:14:08.880Z"
   },
   {
    "duration": 16,
    "start_time": "2024-02-16T12:14:08.903Z"
   },
   {
    "duration": 44,
    "start_time": "2024-02-16T12:14:08.921Z"
   },
   {
    "duration": 24,
    "start_time": "2024-02-16T12:14:08.966Z"
   },
   {
    "duration": 15,
    "start_time": "2024-02-16T12:14:08.991Z"
   },
   {
    "duration": 16,
    "start_time": "2024-02-16T12:14:09.007Z"
   },
   {
    "duration": 22,
    "start_time": "2024-02-16T12:14:09.024Z"
   },
   {
    "duration": 13,
    "start_time": "2024-02-16T12:14:09.047Z"
   },
   {
    "duration": 16,
    "start_time": "2024-02-16T12:14:09.062Z"
   },
   {
    "duration": 21,
    "start_time": "2024-02-16T12:14:09.079Z"
   },
   {
    "duration": 16,
    "start_time": "2024-02-16T12:14:09.103Z"
   },
   {
    "duration": 17,
    "start_time": "2024-02-16T12:14:09.120Z"
   },
   {
    "duration": 99,
    "start_time": "2024-02-16T12:14:09.139Z"
   },
   {
    "duration": 0,
    "start_time": "2024-02-16T12:14:09.239Z"
   },
   {
    "duration": 0,
    "start_time": "2024-02-16T12:14:09.240Z"
   },
   {
    "duration": 0,
    "start_time": "2024-02-16T12:14:09.241Z"
   },
   {
    "duration": 0,
    "start_time": "2024-02-16T12:14:09.242Z"
   },
   {
    "duration": 0,
    "start_time": "2024-02-16T12:14:09.243Z"
   },
   {
    "duration": 0,
    "start_time": "2024-02-16T12:14:09.244Z"
   },
   {
    "duration": 0,
    "start_time": "2024-02-16T12:14:09.245Z"
   },
   {
    "duration": 86,
    "start_time": "2024-02-16T12:16:11.737Z"
   },
   {
    "duration": 16,
    "start_time": "2024-02-16T12:25:47.226Z"
   },
   {
    "duration": 10,
    "start_time": "2024-02-16T12:27:36.069Z"
   },
   {
    "duration": 12,
    "start_time": "2024-02-16T12:28:34.186Z"
   },
   {
    "duration": 18,
    "start_time": "2024-02-16T12:29:13.107Z"
   },
   {
    "duration": 8,
    "start_time": "2024-02-16T12:43:13.984Z"
   },
   {
    "duration": 5,
    "start_time": "2024-02-16T12:44:53.449Z"
   },
   {
    "duration": 11,
    "start_time": "2024-02-16T12:58:56.853Z"
   },
   {
    "duration": 7,
    "start_time": "2024-02-16T13:44:51.773Z"
   },
   {
    "duration": 5,
    "start_time": "2024-02-16T13:45:30.372Z"
   }
  ],
  "celltoolbar": "Отсутствует",
  "colab": {
   "collapsed_sections": [
    "E0vqbgi9ay0H",
    "VUC88oWjTJw2"
   ],
   "provenance": []
  },
  "kernelspec": {
   "display_name": "Python 3 (ipykernel)",
   "language": "python",
   "name": "python3"
  },
  "language_info": {
   "codemirror_mode": {
    "name": "ipython",
    "version": 3
   },
   "file_extension": ".py",
   "mimetype": "text/x-python",
   "name": "python",
   "nbconvert_exporter": "python",
   "pygments_lexer": "ipython3",
   "version": "3.11.5"
  },
  "toc": {
   "base_numbering": 1,
   "nav_menu": {
    "height": "215px",
    "width": "403px"
   },
   "number_sections": true,
   "sideBar": true,
   "skip_h1_title": true,
   "title_cell": "Table of Contents",
   "title_sidebar": "Contents",
   "toc_cell": false,
   "toc_position": {
    "height": "calc(100% - 180px)",
    "left": "10px",
    "top": "150px",
    "width": "285.825px"
   },
   "toc_section_display": true,
   "toc_window_display": false
  }
 },
 "nbformat": 4,
 "nbformat_minor": 1
}
